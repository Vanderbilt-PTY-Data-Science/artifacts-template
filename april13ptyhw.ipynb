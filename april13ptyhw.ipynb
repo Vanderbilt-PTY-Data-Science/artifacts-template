{
 "cells": [
  {
   "cell_type": "code",
   "execution_count": 12,
   "metadata": {},
   "outputs": [
    {
     "data": {
      "text/html": [
       "<div>\n",
       "<style scoped>\n",
       "    .dataframe tbody tr th:only-of-type {\n",
       "        vertical-align: middle;\n",
       "    }\n",
       "\n",
       "    .dataframe tbody tr th {\n",
       "        vertical-align: top;\n",
       "    }\n",
       "\n",
       "    .dataframe thead th {\n",
       "        text-align: right;\n",
       "    }\n",
       "</style>\n",
       "<table border=\"1\" class=\"dataframe\">\n",
       "  <thead>\n",
       "    <tr style=\"text-align: right;\">\n",
       "      <th></th>\n",
       "      <th>Id</th>\n",
       "      <th>Img Id</th>\n",
       "      <th>Da</th>\n",
       "      <th>Dp</th>\n",
       "      <th>FWidth</th>\n",
       "      <th>FLength</th>\n",
       "      <th>FThickness</th>\n",
       "      <th>ELength</th>\n",
       "      <th>EThickness</th>\n",
       "      <th>EWidth</th>\n",
       "      <th>...</th>\n",
       "      <th>W/L Ratio</th>\n",
       "      <th>W/T Ratio</th>\n",
       "      <th>T/W Ratio</th>\n",
       "      <th>CHull Surface Area</th>\n",
       "      <th>Sieve</th>\n",
       "      <th>Angularity</th>\n",
       "      <th>Ellipticity</th>\n",
       "      <th>Fiber Length</th>\n",
       "      <th>Fiber Width</th>\n",
       "      <th>Krumbein Rnd</th>\n",
       "    </tr>\n",
       "  </thead>\n",
       "  <tbody>\n",
       "    <tr>\n",
       "      <th>0</th>\n",
       "      <td>54843</td>\n",
       "      <td>17792</td>\n",
       "      <td>0.163</td>\n",
       "      <td>0.187</td>\n",
       "      <td>0.111</td>\n",
       "      <td>0.238</td>\n",
       "      <td>0.111</td>\n",
       "      <td>0.233</td>\n",
       "      <td>0.109</td>\n",
       "      <td>0.109</td>\n",
       "      <td>...</td>\n",
       "      <td>0.467</td>\n",
       "      <td>1.000</td>\n",
       "      <td>1.000</td>\n",
       "      <td>0.085</td>\n",
       "      <td>0.111</td>\n",
       "      <td>68.000</td>\n",
       "      <td>2.133</td>\n",
       "      <td>0.213</td>\n",
       "      <td>0.098</td>\n",
       "      <td>1.0</td>\n",
       "    </tr>\n",
       "    <tr>\n",
       "      <th>1</th>\n",
       "      <td>30790</td>\n",
       "      <td>12210</td>\n",
       "      <td>0.182</td>\n",
       "      <td>0.193</td>\n",
       "      <td>0.161</td>\n",
       "      <td>0.230</td>\n",
       "      <td>0.161</td>\n",
       "      <td>0.212</td>\n",
       "      <td>0.152</td>\n",
       "      <td>0.152</td>\n",
       "      <td>...</td>\n",
       "      <td>0.697</td>\n",
       "      <td>1.000</td>\n",
       "      <td>1.000</td>\n",
       "      <td>0.104</td>\n",
       "      <td>0.161</td>\n",
       "      <td>56.667</td>\n",
       "      <td>1.392</td>\n",
       "      <td>0.000</td>\n",
       "      <td>0.000</td>\n",
       "      <td>1.0</td>\n",
       "    </tr>\n",
       "    <tr>\n",
       "      <th>2</th>\n",
       "      <td>45744</td>\n",
       "      <td>15153</td>\n",
       "      <td>0.188</td>\n",
       "      <td>0.217</td>\n",
       "      <td>0.146</td>\n",
       "      <td>0.280</td>\n",
       "      <td>0.146</td>\n",
       "      <td>0.265</td>\n",
       "      <td>0.137</td>\n",
       "      <td>0.137</td>\n",
       "      <td>...</td>\n",
       "      <td>0.522</td>\n",
       "      <td>1.000</td>\n",
       "      <td>1.000</td>\n",
       "      <td>0.112</td>\n",
       "      <td>0.146</td>\n",
       "      <td>68.000</td>\n",
       "      <td>1.931</td>\n",
       "      <td>0.000</td>\n",
       "      <td>0.000</td>\n",
       "      <td>1.0</td>\n",
       "    </tr>\n",
       "    <tr>\n",
       "      <th>3</th>\n",
       "      <td>65308</td>\n",
       "      <td>24553</td>\n",
       "      <td>0.218</td>\n",
       "      <td>0.235</td>\n",
       "      <td>0.184</td>\n",
       "      <td>0.273</td>\n",
       "      <td>0.184</td>\n",
       "      <td>0.260</td>\n",
       "      <td>0.183</td>\n",
       "      <td>0.183</td>\n",
       "      <td>...</td>\n",
       "      <td>0.673</td>\n",
       "      <td>1.000</td>\n",
       "      <td>1.000</td>\n",
       "      <td>0.152</td>\n",
       "      <td>0.184</td>\n",
       "      <td>71.667</td>\n",
       "      <td>1.422</td>\n",
       "      <td>0.000</td>\n",
       "      <td>0.000</td>\n",
       "      <td>1.0</td>\n",
       "    </tr>\n",
       "    <tr>\n",
       "      <th>4</th>\n",
       "      <td>36938</td>\n",
       "      <td>13000</td>\n",
       "      <td>0.299</td>\n",
       "      <td>0.327</td>\n",
       "      <td>0.256</td>\n",
       "      <td>0.405</td>\n",
       "      <td>0.254</td>\n",
       "      <td>0.397</td>\n",
       "      <td>0.242</td>\n",
       "      <td>0.243</td>\n",
       "      <td>...</td>\n",
       "      <td>0.632</td>\n",
       "      <td>1.009</td>\n",
       "      <td>0.992</td>\n",
       "      <td>0.286</td>\n",
       "      <td>0.255</td>\n",
       "      <td>66.000</td>\n",
       "      <td>1.637</td>\n",
       "      <td>0.000</td>\n",
       "      <td>0.000</td>\n",
       "      <td>1.0</td>\n",
       "    </tr>\n",
       "  </tbody>\n",
       "</table>\n",
       "<p>5 rows × 48 columns</p>\n",
       "</div>"
      ],
      "text/plain": [
       "      Id  Img Id     Da     Dp  FWidth  FLength  FThickness  ELength  \\\n",
       "0  54843   17792  0.163  0.187   0.111    0.238       0.111    0.233   \n",
       "1  30790   12210  0.182  0.193   0.161    0.230       0.161    0.212   \n",
       "2  45744   15153  0.188  0.217   0.146    0.280       0.146    0.265   \n",
       "3  65308   24553  0.218  0.235   0.184    0.273       0.184    0.260   \n",
       "4  36938   13000  0.299  0.327   0.256    0.405       0.254    0.397   \n",
       "\n",
       "   EThickness  EWidth  ...  W/L Ratio  W/T Ratio  T/W Ratio  \\\n",
       "0       0.109   0.109  ...      0.467      1.000      1.000   \n",
       "1       0.152   0.152  ...      0.697      1.000      1.000   \n",
       "2       0.137   0.137  ...      0.522      1.000      1.000   \n",
       "3       0.183   0.183  ...      0.673      1.000      1.000   \n",
       "4       0.242   0.243  ...      0.632      1.009      0.992   \n",
       "\n",
       "   CHull Surface Area  Sieve  Angularity  Ellipticity  Fiber Length  \\\n",
       "0               0.085  0.111      68.000        2.133         0.213   \n",
       "1               0.104  0.161      56.667        1.392         0.000   \n",
       "2               0.112  0.146      68.000        1.931         0.000   \n",
       "3               0.152  0.184      71.667        1.422         0.000   \n",
       "4               0.286  0.255      66.000        1.637         0.000   \n",
       "\n",
       "   Fiber Width  Krumbein Rnd  \n",
       "0        0.098           1.0  \n",
       "1        0.000           1.0  \n",
       "2        0.000           1.0  \n",
       "3        0.000           1.0  \n",
       "4        0.000           1.0  \n",
       "\n",
       "[5 rows x 48 columns]"
      ]
     },
     "execution_count": 12,
     "metadata": {},
     "output_type": "execute_result"
    }
   ],
   "source": [
    "import pandas as pd\n",
    "archdata = pd.read_csv(r'C:\\Users\\justi\\Desktop\\ptyartifacts\\ArchaeologicalSoilData.csv')\n",
    "archdata.head()"
   ]
  },
  {
   "cell_type": "code",
   "execution_count": 15,
   "metadata": {},
   "outputs": [
    {
     "name": "stdout",
     "output_type": "stream",
     "text": [
      "<class 'pandas.core.frame.DataFrame'>\n",
      "RangeIndex: 36656 entries, 0 to 36655\n",
      "Columns: 48 entries, Id to Krumbein Rnd\n",
      "dtypes: float64(38), int64(3), object(7)\n",
      "memory usage: 13.4+ MB\n"
     ]
    }
   ],
   "source": [
    "archdata.info(verbose=False)"
   ]
  },
  {
   "cell_type": "code",
   "execution_count": 17,
   "metadata": {},
   "outputs": [
    {
     "data": {
      "text/html": [
       "<div>\n",
       "<style scoped>\n",
       "    .dataframe tbody tr th:only-of-type {\n",
       "        vertical-align: middle;\n",
       "    }\n",
       "\n",
       "    .dataframe tbody tr th {\n",
       "        vertical-align: top;\n",
       "    }\n",
       "\n",
       "    .dataframe thead th {\n",
       "        text-align: right;\n",
       "    }\n",
       "</style>\n",
       "<table border=\"1\" class=\"dataframe\">\n",
       "  <thead>\n",
       "    <tr style=\"text-align: right;\">\n",
       "      <th></th>\n",
       "      <th>Id</th>\n",
       "      <th>Img Id</th>\n",
       "      <th>Da</th>\n",
       "      <th>Dp</th>\n",
       "      <th>FWidth</th>\n",
       "      <th>FLength</th>\n",
       "      <th>FThickness</th>\n",
       "      <th>ELength</th>\n",
       "      <th>EThickness</th>\n",
       "      <th>EWidth</th>\n",
       "      <th>...</th>\n",
       "      <th>W/L Ratio</th>\n",
       "      <th>W/T Ratio</th>\n",
       "      <th>T/W Ratio</th>\n",
       "      <th>CHull Surface Area</th>\n",
       "      <th>Sieve</th>\n",
       "      <th>Angularity</th>\n",
       "      <th>Ellipticity</th>\n",
       "      <th>Fiber Length</th>\n",
       "      <th>Fiber Width</th>\n",
       "      <th>Krumbein Rnd</th>\n",
       "    </tr>\n",
       "  </thead>\n",
       "  <tbody>\n",
       "    <tr>\n",
       "      <th>count</th>\n",
       "      <td>36656.000000</td>\n",
       "      <td>36656.000000</td>\n",
       "      <td>36656.000000</td>\n",
       "      <td>36656.000000</td>\n",
       "      <td>36656.000000</td>\n",
       "      <td>36656.000000</td>\n",
       "      <td>36656.000000</td>\n",
       "      <td>36656.000000</td>\n",
       "      <td>36656.000000</td>\n",
       "      <td>36656.00000</td>\n",
       "      <td>...</td>\n",
       "      <td>36656.000000</td>\n",
       "      <td>36656.000000</td>\n",
       "      <td>36656.000000</td>\n",
       "      <td>36656.000000</td>\n",
       "      <td>36656.000000</td>\n",
       "      <td>36656.000000</td>\n",
       "      <td>36656.000000</td>\n",
       "      <td>36656.000000</td>\n",
       "      <td>36656.000000</td>\n",
       "      <td>36656.000000</td>\n",
       "    </tr>\n",
       "    <tr>\n",
       "      <th>mean</th>\n",
       "      <td>36637.658801</td>\n",
       "      <td>14224.616870</td>\n",
       "      <td>0.229361</td>\n",
       "      <td>0.281119</td>\n",
       "      <td>0.181493</td>\n",
       "      <td>0.357153</td>\n",
       "      <td>0.168140</td>\n",
       "      <td>0.356077</td>\n",
       "      <td>0.162603</td>\n",
       "      <td>0.17586</td>\n",
       "      <td>...</td>\n",
       "      <td>0.537419</td>\n",
       "      <td>1.032909</td>\n",
       "      <td>0.978301</td>\n",
       "      <td>0.613202</td>\n",
       "      <td>0.174816</td>\n",
       "      <td>53.787001</td>\n",
       "      <td>2.296025</td>\n",
       "      <td>0.268046</td>\n",
       "      <td>0.100154</td>\n",
       "      <td>0.981215</td>\n",
       "    </tr>\n",
       "    <tr>\n",
       "      <th>std</th>\n",
       "      <td>21137.203349</td>\n",
       "      <td>6311.201505</td>\n",
       "      <td>0.354278</td>\n",
       "      <td>0.438180</td>\n",
       "      <td>0.352482</td>\n",
       "      <td>0.542786</td>\n",
       "      <td>0.275797</td>\n",
       "      <td>0.550171</td>\n",
       "      <td>0.265707</td>\n",
       "      <td>0.34230</td>\n",
       "      <td>...</td>\n",
       "      <td>0.179670</td>\n",
       "      <td>0.138661</td>\n",
       "      <td>0.079236</td>\n",
       "      <td>6.160238</td>\n",
       "      <td>0.313105</td>\n",
       "      <td>35.479534</td>\n",
       "      <td>1.348489</td>\n",
       "      <td>0.738864</td>\n",
       "      <td>0.319494</td>\n",
       "      <td>0.080564</td>\n",
       "    </tr>\n",
       "    <tr>\n",
       "      <th>min</th>\n",
       "      <td>3.000000</td>\n",
       "      <td>2973.000000</td>\n",
       "      <td>0.029000</td>\n",
       "      <td>0.058000</td>\n",
       "      <td>0.021000</td>\n",
       "      <td>0.074000</td>\n",
       "      <td>0.021000</td>\n",
       "      <td>0.041000</td>\n",
       "      <td>0.015000</td>\n",
       "      <td>0.01500</td>\n",
       "      <td>...</td>\n",
       "      <td>0.077000</td>\n",
       "      <td>1.000000</td>\n",
       "      <td>0.172000</td>\n",
       "      <td>0.006000</td>\n",
       "      <td>0.021000</td>\n",
       "      <td>0.000000</td>\n",
       "      <td>1.000000</td>\n",
       "      <td>0.000000</td>\n",
       "      <td>0.000000</td>\n",
       "      <td>0.219000</td>\n",
       "    </tr>\n",
       "    <tr>\n",
       "      <th>25%</th>\n",
       "      <td>18393.750000</td>\n",
       "      <td>9578.750000</td>\n",
       "      <td>0.152000</td>\n",
       "      <td>0.165000</td>\n",
       "      <td>0.112000</td>\n",
       "      <td>0.187000</td>\n",
       "      <td>0.112000</td>\n",
       "      <td>0.175000</td>\n",
       "      <td>0.106000</td>\n",
       "      <td>0.10600</td>\n",
       "      <td>...</td>\n",
       "      <td>0.410000</td>\n",
       "      <td>1.000000</td>\n",
       "      <td>1.000000</td>\n",
       "      <td>0.073000</td>\n",
       "      <td>0.112000</td>\n",
       "      <td>0.000000</td>\n",
       "      <td>1.500000</td>\n",
       "      <td>0.000000</td>\n",
       "      <td>0.000000</td>\n",
       "      <td>1.000000</td>\n",
       "    </tr>\n",
       "    <tr>\n",
       "      <th>50%</th>\n",
       "      <td>36676.500000</td>\n",
       "      <td>12972.500000</td>\n",
       "      <td>0.174000</td>\n",
       "      <td>0.197000</td>\n",
       "      <td>0.136000</td>\n",
       "      <td>0.243000</td>\n",
       "      <td>0.135000</td>\n",
       "      <td>0.232000</td>\n",
       "      <td>0.129000</td>\n",
       "      <td>0.13100</td>\n",
       "      <td>...</td>\n",
       "      <td>0.544000</td>\n",
       "      <td>1.000000</td>\n",
       "      <td>1.000000</td>\n",
       "      <td>0.098000</td>\n",
       "      <td>0.136000</td>\n",
       "      <td>68.000000</td>\n",
       "      <td>1.794000</td>\n",
       "      <td>0.082000</td>\n",
       "      <td>0.010000</td>\n",
       "      <td>1.000000</td>\n",
       "    </tr>\n",
       "    <tr>\n",
       "      <th>75%</th>\n",
       "      <td>54991.250000</td>\n",
       "      <td>17860.000000</td>\n",
       "      <td>0.235000</td>\n",
       "      <td>0.282000</td>\n",
       "      <td>0.179000</td>\n",
       "      <td>0.365000</td>\n",
       "      <td>0.173000</td>\n",
       "      <td>0.363000</td>\n",
       "      <td>0.167000</td>\n",
       "      <td>0.17300</td>\n",
       "      <td>...</td>\n",
       "      <td>0.667000</td>\n",
       "      <td>1.000000</td>\n",
       "      <td>1.000000</td>\n",
       "      <td>0.184000</td>\n",
       "      <td>0.176000</td>\n",
       "      <td>85.000000</td>\n",
       "      <td>2.600000</td>\n",
       "      <td>0.297000</td>\n",
       "      <td>0.123000</td>\n",
       "      <td>1.000000</td>\n",
       "    </tr>\n",
       "    <tr>\n",
       "      <th>max</th>\n",
       "      <td>73313.000000</td>\n",
       "      <td>28051.000000</td>\n",
       "      <td>9.374000</td>\n",
       "      <td>11.639000</td>\n",
       "      <td>10.232000</td>\n",
       "      <td>12.927000</td>\n",
       "      <td>8.026000</td>\n",
       "      <td>12.207000</td>\n",
       "      <td>8.015000</td>\n",
       "      <td>9.85300</td>\n",
       "      <td>...</td>\n",
       "      <td>0.961000</td>\n",
       "      <td>5.830000</td>\n",
       "      <td>1.000000</td>\n",
       "      <td>301.407000</td>\n",
       "      <td>8.821000</td>\n",
       "      <td>132.500000</td>\n",
       "      <td>18.277000</td>\n",
       "      <td>29.682000</td>\n",
       "      <td>8.959000</td>\n",
       "      <td>1.000000</td>\n",
       "    </tr>\n",
       "  </tbody>\n",
       "</table>\n",
       "<p>8 rows × 41 columns</p>\n",
       "</div>"
      ],
      "text/plain": [
       "                 Id        Img Id            Da            Dp        FWidth  \\\n",
       "count  36656.000000  36656.000000  36656.000000  36656.000000  36656.000000   \n",
       "mean   36637.658801  14224.616870      0.229361      0.281119      0.181493   \n",
       "std    21137.203349   6311.201505      0.354278      0.438180      0.352482   \n",
       "min        3.000000   2973.000000      0.029000      0.058000      0.021000   \n",
       "25%    18393.750000   9578.750000      0.152000      0.165000      0.112000   \n",
       "50%    36676.500000  12972.500000      0.174000      0.197000      0.136000   \n",
       "75%    54991.250000  17860.000000      0.235000      0.282000      0.179000   \n",
       "max    73313.000000  28051.000000      9.374000     11.639000     10.232000   \n",
       "\n",
       "            FLength    FThickness       ELength    EThickness       EWidth  \\\n",
       "count  36656.000000  36656.000000  36656.000000  36656.000000  36656.00000   \n",
       "mean       0.357153      0.168140      0.356077      0.162603      0.17586   \n",
       "std        0.542786      0.275797      0.550171      0.265707      0.34230   \n",
       "min        0.074000      0.021000      0.041000      0.015000      0.01500   \n",
       "25%        0.187000      0.112000      0.175000      0.106000      0.10600   \n",
       "50%        0.243000      0.135000      0.232000      0.129000      0.13100   \n",
       "75%        0.365000      0.173000      0.363000      0.167000      0.17300   \n",
       "max       12.927000      8.026000     12.207000      8.015000      9.85300   \n",
       "\n",
       "       ...     W/L Ratio     W/T Ratio     T/W Ratio  CHull Surface Area  \\\n",
       "count  ...  36656.000000  36656.000000  36656.000000        36656.000000   \n",
       "mean   ...      0.537419      1.032909      0.978301            0.613202   \n",
       "std    ...      0.179670      0.138661      0.079236            6.160238   \n",
       "min    ...      0.077000      1.000000      0.172000            0.006000   \n",
       "25%    ...      0.410000      1.000000      1.000000            0.073000   \n",
       "50%    ...      0.544000      1.000000      1.000000            0.098000   \n",
       "75%    ...      0.667000      1.000000      1.000000            0.184000   \n",
       "max    ...      0.961000      5.830000      1.000000          301.407000   \n",
       "\n",
       "              Sieve    Angularity   Ellipticity  Fiber Length   Fiber Width  \\\n",
       "count  36656.000000  36656.000000  36656.000000  36656.000000  36656.000000   \n",
       "mean       0.174816     53.787001      2.296025      0.268046      0.100154   \n",
       "std        0.313105     35.479534      1.348489      0.738864      0.319494   \n",
       "min        0.021000      0.000000      1.000000      0.000000      0.000000   \n",
       "25%        0.112000      0.000000      1.500000      0.000000      0.000000   \n",
       "50%        0.136000     68.000000      1.794000      0.082000      0.010000   \n",
       "75%        0.176000     85.000000      2.600000      0.297000      0.123000   \n",
       "max        8.821000    132.500000     18.277000     29.682000      8.959000   \n",
       "\n",
       "       Krumbein Rnd  \n",
       "count  36656.000000  \n",
       "mean       0.981215  \n",
       "std        0.080564  \n",
       "min        0.219000  \n",
       "25%        1.000000  \n",
       "50%        1.000000  \n",
       "75%        1.000000  \n",
       "max        1.000000  \n",
       "\n",
       "[8 rows x 41 columns]"
      ]
     },
     "execution_count": 17,
     "metadata": {},
     "output_type": "execute_result"
    }
   ],
   "source": [
    "archdata.describe()"
   ]
  },
  {
   "cell_type": "code",
   "execution_count": 18,
   "metadata": {},
   "outputs": [
    {
     "data": {
      "text/plain": [
       "Index(['Id', 'Img Id', 'Da', 'Dp', 'FWidth', 'FLength', 'FThickness',\n",
       "       'ELength', 'EThickness', 'EWidth', 'Volume', 'Area', 'Perimeter',\n",
       "       'CHull  Area', 'CHull Perimeter', 'Sphericity', 'L/T Ratio',\n",
       "       'T/L Aspect Ratio', 'Compactness', 'Roundness', 'Ellipse Ratio',\n",
       "       'Circularity', 'Solidity', 'Concavity', 'Convexity', 'Extent', 'hash',\n",
       "       'Transparency', 'Curvature', 'Surface Area', 'Filter0', 'Filter1',\n",
       "       'Filter2', 'Filter3', 'Filter4', 'Filter5', 'Filter6', 'L/W Ratio',\n",
       "       'W/L Ratio', 'W/T Ratio', 'T/W Ratio', 'CHull Surface Area', 'Sieve',\n",
       "       'Angularity', 'Ellipticity', 'Fiber Length', 'Fiber Width',\n",
       "       'Krumbein Rnd'],\n",
       "      dtype='object')"
      ]
     },
     "execution_count": 18,
     "metadata": {},
     "output_type": "execute_result"
    }
   ],
   "source": [
    "archdata.columns"
   ]
  },
  {
   "cell_type": "code",
   "execution_count": 19,
   "metadata": {},
   "outputs": [
    {
     "data": {
      "text/plain": [
       "1.000    33474\n",
       "1.246       15\n",
       "1.150       13\n",
       "1.231       12\n",
       "1.208       12\n",
       "         ...  \n",
       "2.009        1\n",
       "1.069        1\n",
       "1.873        1\n",
       "1.855        1\n",
       "2.500        1\n",
       "Name: W/T Ratio, Length: 899, dtype: int64"
      ]
     },
     "execution_count": 19,
     "metadata": {},
     "output_type": "execute_result"
    }
   ],
   "source": [
    "archdata['W/T Ratio'].value_counts()"
   ]
  },
  {
   "cell_type": "code",
   "execution_count": 21,
   "metadata": {},
   "outputs": [],
   "source": [
    "imp_archdata = archdata.fillna(value=archdata.mean)"
   ]
  },
  {
   "cell_type": "code",
   "execution_count": 22,
   "metadata": {},
   "outputs": [
    {
     "data": {
      "text/plain": [
       "0        0.163\n",
       "1        0.182\n",
       "2        0.188\n",
       "3        0.218\n",
       "4        0.299\n",
       "         ...  \n",
       "36651    0.357\n",
       "36652    0.375\n",
       "36653    0.057\n",
       "36654    0.152\n",
       "36655    0.152\n",
       "Name: Da, Length: 36656, dtype: float64"
      ]
     },
     "execution_count": 22,
     "metadata": {},
     "output_type": "execute_result"
    }
   ],
   "source": [
    "imp_archdata['Da']"
   ]
  },
  {
   "cell_type": "code",
   "execution_count": 26,
   "metadata": {},
   "outputs": [
    {
     "data": {
      "text/plain": [
       "0        0.238\n",
       "1        0.230\n",
       "2        0.280\n",
       "3        0.273\n",
       "4        0.405\n",
       "         ...  \n",
       "36651    0.593\n",
       "36652    0.769\n",
       "36653    0.088\n",
       "36654    0.208\n",
       "36655    0.201\n",
       "Name: FLength, Length: 36656, dtype: float64"
      ]
     },
     "execution_count": 26,
     "metadata": {},
     "output_type": "execute_result"
    }
   ],
   "source": [
    "#Answer to Number 1\n",
    "imp_archdata.query('FLength < 6')\n",
    "imp_archdata['FLength']"
   ]
  },
  {
   "cell_type": "code",
   "execution_count": null,
   "metadata": {},
   "outputs": [],
   "source": []
  },
  {
   "cell_type": "code",
   "execution_count": 42,
   "metadata": {},
   "outputs": [
    {
     "data": {
      "text/plain": [
       "0        <bound method Series.mean of 0        0.983\\n1...\n",
       "1        <bound method Series.mean of 0        0.983\\n1...\n",
       "2        <bound method Series.mean of 0        0.983\\n1...\n",
       "3        <bound method Series.mean of 0        0.983\\n1...\n",
       "4        <bound method Series.mean of 0        0.983\\n1...\n",
       "                               ...                        \n",
       "36651    <bound method Series.mean of 0        0.983\\n1...\n",
       "36652    <bound method Series.mean of 0        0.983\\n1...\n",
       "36653    <bound method Series.mean of 0        0.983\\n1...\n",
       "36654    <bound method Series.mean of 0        0.983\\n1...\n",
       "36655    <bound method Series.mean of 0        0.983\\n1...\n",
       "Name: mean_solidity, Length: 36656, dtype: object"
      ]
     },
     "execution_count": 42,
     "metadata": {},
     "output_type": "execute_result"
    }
   ],
   "source": [
    "#Answer to Number 2, something about how I got the mean didn't work so I got this weird \"o.983/n1\"\n",
    "imp_archdata['mean_solidity'] = imp_archdata['Solidity'].mean\n",
    "imp_archdata['mean_solidity']"
   ]
  },
  {
   "cell_type": "code",
   "execution_count": 40,
   "metadata": {},
   "outputs": [
    {
     "ename": "KeyError",
     "evalue": "'solidity'",
     "output_type": "error",
     "traceback": [
      "\u001b[1;31m---------------------------------------------------------------------------\u001b[0m",
      "\u001b[1;31mKeyError\u001b[0m                                  Traceback (most recent call last)",
      "\u001b[1;32m~\\anaconda3\\lib\\site-packages\\pandas\\core\\indexes\\base.py\u001b[0m in \u001b[0;36mget_loc\u001b[1;34m(self, key, method, tolerance)\u001b[0m\n\u001b[0;32m   2894\u001b[0m             \u001b[1;32mtry\u001b[0m\u001b[1;33m:\u001b[0m\u001b[1;33m\u001b[0m\u001b[1;33m\u001b[0m\u001b[0m\n\u001b[1;32m-> 2895\u001b[1;33m                 \u001b[1;32mreturn\u001b[0m \u001b[0mself\u001b[0m\u001b[1;33m.\u001b[0m\u001b[0m_engine\u001b[0m\u001b[1;33m.\u001b[0m\u001b[0mget_loc\u001b[0m\u001b[1;33m(\u001b[0m\u001b[0mcasted_key\u001b[0m\u001b[1;33m)\u001b[0m\u001b[1;33m\u001b[0m\u001b[1;33m\u001b[0m\u001b[0m\n\u001b[0m\u001b[0;32m   2896\u001b[0m             \u001b[1;32mexcept\u001b[0m \u001b[0mKeyError\u001b[0m \u001b[1;32mas\u001b[0m \u001b[0merr\u001b[0m\u001b[1;33m:\u001b[0m\u001b[1;33m\u001b[0m\u001b[1;33m\u001b[0m\u001b[0m\n",
      "\u001b[1;32mpandas\\_libs\\index.pyx\u001b[0m in \u001b[0;36mpandas._libs.index.IndexEngine.get_loc\u001b[1;34m()\u001b[0m\n",
      "\u001b[1;32mpandas\\_libs\\index.pyx\u001b[0m in \u001b[0;36mpandas._libs.index.IndexEngine.get_loc\u001b[1;34m()\u001b[0m\n",
      "\u001b[1;32mpandas\\_libs\\hashtable_class_helper.pxi\u001b[0m in \u001b[0;36mpandas._libs.hashtable.PyObjectHashTable.get_item\u001b[1;34m()\u001b[0m\n",
      "\u001b[1;32mpandas\\_libs\\hashtable_class_helper.pxi\u001b[0m in \u001b[0;36mpandas._libs.hashtable.PyObjectHashTable.get_item\u001b[1;34m()\u001b[0m\n",
      "\u001b[1;31mKeyError\u001b[0m: 'solidity'",
      "\nThe above exception was the direct cause of the following exception:\n",
      "\u001b[1;31mKeyError\u001b[0m                                  Traceback (most recent call last)",
      "\u001b[1;32m<ipython-input-40-35bdda51b613>\u001b[0m in \u001b[0;36m<module>\u001b[1;34m\u001b[0m\n\u001b[1;32m----> 1\u001b[1;33m \u001b[0mimp_archdata\u001b[0m\u001b[1;33m[\u001b[0m\u001b[1;34m'norm_solidity'\u001b[0m\u001b[1;33m]\u001b[0m \u001b[1;33m=\u001b[0m \u001b[1;33m(\u001b[0m\u001b[1;33m(\u001b[0m\u001b[0mimp_archdata\u001b[0m\u001b[1;33m[\u001b[0m\u001b[1;34m'solidity'\u001b[0m\u001b[1;33m]\u001b[0m\u001b[1;33m)\u001b[0m\u001b[1;33m-\u001b[0m\u001b[1;33m(\u001b[0m\u001b[0mimp_archdata\u001b[0m\u001b[1;33m[\u001b[0m\u001b[1;34m'mean_solidity'\u001b[0m\u001b[1;33m]\u001b[0m\u001b[1;33m)\u001b[0m\u001b[1;33m)\u001b[0m\u001b[1;33m/\u001b[0m\u001b[1;33m(\u001b[0m\u001b[0mimp_archdata\u001b[0m\u001b[1;33m[\u001b[0m\u001b[1;34m'solidity'\u001b[0m\u001b[1;33m]\u001b[0m\u001b[1;33m.\u001b[0m\u001b[0msd\u001b[0m\u001b[1;33m)\u001b[0m\u001b[1;33m\u001b[0m\u001b[1;33m\u001b[0m\u001b[0m\n\u001b[0m\u001b[0;32m      2\u001b[0m \u001b[0mimp_archdata\u001b[0m\u001b[1;33m.\u001b[0m\u001b[0mhead\u001b[0m\u001b[1;33m(\u001b[0m\u001b[1;33m)\u001b[0m\u001b[1;33m\u001b[0m\u001b[1;33m\u001b[0m\u001b[0m\n",
      "\u001b[1;32m~\\anaconda3\\lib\\site-packages\\pandas\\core\\frame.py\u001b[0m in \u001b[0;36m__getitem__\u001b[1;34m(self, key)\u001b[0m\n\u001b[0;32m   2900\u001b[0m             \u001b[1;32mif\u001b[0m \u001b[0mself\u001b[0m\u001b[1;33m.\u001b[0m\u001b[0mcolumns\u001b[0m\u001b[1;33m.\u001b[0m\u001b[0mnlevels\u001b[0m \u001b[1;33m>\u001b[0m \u001b[1;36m1\u001b[0m\u001b[1;33m:\u001b[0m\u001b[1;33m\u001b[0m\u001b[1;33m\u001b[0m\u001b[0m\n\u001b[0;32m   2901\u001b[0m                 \u001b[1;32mreturn\u001b[0m \u001b[0mself\u001b[0m\u001b[1;33m.\u001b[0m\u001b[0m_getitem_multilevel\u001b[0m\u001b[1;33m(\u001b[0m\u001b[0mkey\u001b[0m\u001b[1;33m)\u001b[0m\u001b[1;33m\u001b[0m\u001b[1;33m\u001b[0m\u001b[0m\n\u001b[1;32m-> 2902\u001b[1;33m             \u001b[0mindexer\u001b[0m \u001b[1;33m=\u001b[0m \u001b[0mself\u001b[0m\u001b[1;33m.\u001b[0m\u001b[0mcolumns\u001b[0m\u001b[1;33m.\u001b[0m\u001b[0mget_loc\u001b[0m\u001b[1;33m(\u001b[0m\u001b[0mkey\u001b[0m\u001b[1;33m)\u001b[0m\u001b[1;33m\u001b[0m\u001b[1;33m\u001b[0m\u001b[0m\n\u001b[0m\u001b[0;32m   2903\u001b[0m             \u001b[1;32mif\u001b[0m \u001b[0mis_integer\u001b[0m\u001b[1;33m(\u001b[0m\u001b[0mindexer\u001b[0m\u001b[1;33m)\u001b[0m\u001b[1;33m:\u001b[0m\u001b[1;33m\u001b[0m\u001b[1;33m\u001b[0m\u001b[0m\n\u001b[0;32m   2904\u001b[0m                 \u001b[0mindexer\u001b[0m \u001b[1;33m=\u001b[0m \u001b[1;33m[\u001b[0m\u001b[0mindexer\u001b[0m\u001b[1;33m]\u001b[0m\u001b[1;33m\u001b[0m\u001b[1;33m\u001b[0m\u001b[0m\n",
      "\u001b[1;32m~\\anaconda3\\lib\\site-packages\\pandas\\core\\indexes\\base.py\u001b[0m in \u001b[0;36mget_loc\u001b[1;34m(self, key, method, tolerance)\u001b[0m\n\u001b[0;32m   2895\u001b[0m                 \u001b[1;32mreturn\u001b[0m \u001b[0mself\u001b[0m\u001b[1;33m.\u001b[0m\u001b[0m_engine\u001b[0m\u001b[1;33m.\u001b[0m\u001b[0mget_loc\u001b[0m\u001b[1;33m(\u001b[0m\u001b[0mcasted_key\u001b[0m\u001b[1;33m)\u001b[0m\u001b[1;33m\u001b[0m\u001b[1;33m\u001b[0m\u001b[0m\n\u001b[0;32m   2896\u001b[0m             \u001b[1;32mexcept\u001b[0m \u001b[0mKeyError\u001b[0m \u001b[1;32mas\u001b[0m \u001b[0merr\u001b[0m\u001b[1;33m:\u001b[0m\u001b[1;33m\u001b[0m\u001b[1;33m\u001b[0m\u001b[0m\n\u001b[1;32m-> 2897\u001b[1;33m                 \u001b[1;32mraise\u001b[0m \u001b[0mKeyError\u001b[0m\u001b[1;33m(\u001b[0m\u001b[0mkey\u001b[0m\u001b[1;33m)\u001b[0m \u001b[1;32mfrom\u001b[0m \u001b[0merr\u001b[0m\u001b[1;33m\u001b[0m\u001b[1;33m\u001b[0m\u001b[0m\n\u001b[0m\u001b[0;32m   2898\u001b[0m \u001b[1;33m\u001b[0m\u001b[0m\n\u001b[0;32m   2899\u001b[0m         \u001b[1;32mif\u001b[0m \u001b[0mtolerance\u001b[0m \u001b[1;32mis\u001b[0m \u001b[1;32mnot\u001b[0m \u001b[1;32mNone\u001b[0m\u001b[1;33m:\u001b[0m\u001b[1;33m\u001b[0m\u001b[1;33m\u001b[0m\u001b[0m\n",
      "\u001b[1;31mKeyError\u001b[0m: 'solidity'"
     ]
    }
   ],
   "source": [
    "#Answer to Number 3, again, the way I'm getting these values is wrong but I'm not sure why. I also think the way I'm doing the operations is wrong since it's not just saying the phrasing for the values is wrong\n",
    "imp_archdata['norm_solidity'] = ((imp_archdata['solidity'])-(imp_archdata['mean_solidity']))/(imp_archdata['solidity'].sd)\n",
    "imp_archdata.head()"
   ]
  },
  {
   "cell_type": "code",
   "execution_count": 54,
   "metadata": {},
   "outputs": [
    {
     "data": {
      "text/plain": [
       "0        <bound method Series.median of 0        0.325\\...\n",
       "1        <bound method Series.median of 0        0.325\\...\n",
       "2        <bound method Series.median of 0        0.325\\...\n",
       "3        <bound method Series.median of 0        0.325\\...\n",
       "4        <bound method Series.median of 0        0.325\\...\n",
       "                               ...                        \n",
       "36651    <bound method Series.median of 0        0.325\\...\n",
       "36652    <bound method Series.median of 0        0.325\\...\n",
       "36653    <bound method Series.median of 0        0.325\\...\n",
       "36654    <bound method Series.median of 0        0.325\\...\n",
       "36655    <bound method Series.median of 0        0.325\\...\n",
       "Name: Transparency_median, Length: 36656, dtype: object"
      ]
     },
     "execution_count": 54,
     "metadata": {},
     "output_type": "execute_result"
    }
   ],
   "source": [
    "imp_archdata['Transparency_median'] = imp_archdata['Transparency'].median\n",
    "imp_archdata['Transparency_median']"
   ]
  },
  {
   "cell_type": "markdown",
   "metadata": {},
   "source": [
    "The lines below are for the plotting section of the assignment where I plotted 3 variables in histograms then made a scatter plot of two of those variables"
   ]
  },
  {
   "cell_type": "code",
   "execution_count": 55,
   "metadata": {},
   "outputs": [
    {
     "data": {
      "text/plain": [
       "array([[<AxesSubplot:title={'center':'Transparency'}>]], dtype=object)"
      ]
     },
     "execution_count": 55,
     "metadata": {},
     "output_type": "execute_result"
    },
    {
     "data": {
      "image/png": "[encoded data removed]",
      "text/plain": [
       "<Figure size 432x288 with 1 Axes>"
      ]
     },
     "metadata": {
      "needs_background": "light"
     },
     "output_type": "display_data"
    }
   ],
   "source": [
    "imp_archdata.hist(column='Transparency')"
   ]
  },
  {
   "cell_type": "code",
   "execution_count": 56,
   "metadata": {},
   "outputs": [
    {
     "data": {
      "text/plain": [
       "array([[<AxesSubplot:title={'center':'Solidity'}>]], dtype=object)"
      ]
     },
     "execution_count": 56,
     "metadata": {},
     "output_type": "execute_result"
    },
    {
     "data": {
      "image/png": "[encoded data removed]",
      "text/plain": [
       "<Figure size 432x288 with 1 Axes>"
      ]
     },
     "metadata": {
      "needs_background": "light"
     },
     "output_type": "display_data"
    }
   ],
   "source": [
    "imp_archdata.hist(column='Solidity')"
   ]
  },
  {
   "cell_type": "code",
   "execution_count": 57,
   "metadata": {},
   "outputs": [
    {
     "data": {
      "text/plain": [
       "array([[<AxesSubplot:title={'center':'Sphericity'}>]], dtype=object)"
      ]
     },
     "execution_count": 57,
     "metadata": {},
     "output_type": "execute_result"
    },
    {
     "data": {
      "image/png": "[encoded data removed]",
      "text/plain": [
       "<Figure size 432x288 with 1 Axes>"
      ]
     },
     "metadata": {
      "needs_background": "light"
     },
     "output_type": "display_data"
    }
   ],
   "source": [
    "imp_archdata.hist(column='Sphericity')"
   ]
  },
  {
   "cell_type": "code",
   "execution_count": 59,
   "metadata": {},
   "outputs": [
    {
     "data": {
      "text/plain": [
       "<AxesSubplot:xlabel='Solidity', ylabel='Transparency'>"
      ]
     },
     "execution_count": 59,
     "metadata": {},
     "output_type": "execute_result"
    },
    {
     "data": {
      "image/png": "[encoded data removed]",
      "text/plain": [
       "<Figure size 432x288 with 1 Axes>"
      ]
     },
     "metadata": {
      "needs_background": "light"
     },
     "output_type": "display_data"
    }
   ],
   "source": [
    "imp_archdata.plot.scatter('Solidity', 'Transparency')"
   ]
  }
 ],
 "metadata": {
  "kernelspec": {
   "display_name": "Python 3",
   "language": "python",
   "name": "python3"
  },
  "language_info": {
   "codemirror_mode": {
    "name": "ipython",
    "version": 3
   },
   "file_extension": ".py",
   "mimetype": "text/x-python",
   "name": "python",
   "nbconvert_exporter": "python",
   "pygments_lexer": "ipython3",
   "version": "3.8.5"
  }
 },
 "nbformat": 4,
 "nbformat_minor": 4
}
