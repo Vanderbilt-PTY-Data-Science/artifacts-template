{
 "cells": [
  {
   "cell_type": "markdown",
   "metadata": {},
   "source": [
    "# Machine learning using scikit-learn\n",
    "> Best practices made simple with pipelines\n",
    "\n",
    "In this notebook, we demonstrate the usage of pipelines to promote best practices in ML in python.  We'll make sure that all of our pre-processing steps are included within the cross validation training loop, measure performance using cross validation, and make sure to use literate programming practices to share our work.\n",
    "\n",
    "# Technical objective\n",
    "Our technical objective here is to predict whether a penguin is male or female given its other distinguishing features. TEST"
   ]
  },
  {
   "cell_type": "code",
   "execution_count": 1,
   "metadata": {},
   "outputs": [],
   "source": [
    "#tables and visualizations\n",
    "import pandas as pd\n",
    "import numpy as np\n",
    "import seaborn as sns\n",
    "\n",
    "#machine learning\n",
    "from sklearn.model_selection import train_test_split, GridSearchCV\n",
    "from sklearn.linear_model import LogisticRegression\n",
    "from sklearn.pipeline import Pipeline\n",
    "from sklearn.compose import ColumnTransformer, make_column_selector\n",
    "from sklearn.impute import SimpleImputer\n",
    "from sklearn.preprocessing import OneHotEncoder, LabelBinarizer, StandardScaler\n",
    "from sklearn import config_context\n",
    "from sklearn.metrics import classification_report"
   ]
  },
  {
   "cell_type": "markdown",
   "metadata": {},
   "source": [
    "# Load the data\n",
    "In this example, we'll use Allison Horst's penguins dataset.  Although this is normally used in R, we grab the csv from the penguins [GitHub repo](https://github.com/allisonhorst/palmerpenguins).  More information on the dataset is available on the introduction page [here.](https://allisonhorst.github.io/palmerpenguins/articles/intro.html)"
   ]
  },
  {
   "cell_type": "code",
   "execution_count": 26,
   "metadata": {},
   "outputs": [
    {
     "data": {
      "text/html": [
       "<div>\n",
       "<style scoped>\n",
       "    .dataframe tbody tr th:only-of-type {\n",
       "        vertical-align: middle;\n",
       "    }\n",
       "\n",
       "    .dataframe tbody tr th {\n",
       "        vertical-align: top;\n",
       "    }\n",
       "\n",
       "    .dataframe thead th {\n",
       "        text-align: right;\n",
       "    }\n",
       "</style>\n",
       "<table border=\"1\" class=\"dataframe\">\n",
       "  <thead>\n",
       "    <tr style=\"text-align: right;\">\n",
       "      <th></th>\n",
       "      <th>species</th>\n",
       "      <th>island</th>\n",
       "      <th>bill_length_mm</th>\n",
       "      <th>bill_depth_mm</th>\n",
       "      <th>flipper_length_mm</th>\n",
       "      <th>body_mass_g</th>\n",
       "      <th>is_male</th>\n",
       "      <th>year</th>\n",
       "    </tr>\n",
       "  </thead>\n",
       "  <tbody>\n",
       "    <tr>\n",
       "      <th>0</th>\n",
       "      <td>Adelie</td>\n",
       "      <td>Torgersen</td>\n",
       "      <td>39.1</td>\n",
       "      <td>18.7</td>\n",
       "      <td>181.0</td>\n",
       "      <td>3750.0</td>\n",
       "      <td>m</td>\n",
       "      <td>2007</td>\n",
       "    </tr>\n",
       "    <tr>\n",
       "      <th>1</th>\n",
       "      <td>Adelie</td>\n",
       "      <td>Torgersen</td>\n",
       "      <td>39.5</td>\n",
       "      <td>17.4</td>\n",
       "      <td>186.0</td>\n",
       "      <td>3800.0</td>\n",
       "      <td>f</td>\n",
       "      <td>2007</td>\n",
       "    </tr>\n",
       "    <tr>\n",
       "      <th>2</th>\n",
       "      <td>Adelie</td>\n",
       "      <td>Torgersen</td>\n",
       "      <td>40.3</td>\n",
       "      <td>18.0</td>\n",
       "      <td>195.0</td>\n",
       "      <td>3250.0</td>\n",
       "      <td>f</td>\n",
       "      <td>2007</td>\n",
       "    </tr>\n",
       "    <tr>\n",
       "      <th>3</th>\n",
       "      <td>Adelie</td>\n",
       "      <td>Torgersen</td>\n",
       "      <td>NaN</td>\n",
       "      <td>NaN</td>\n",
       "      <td>NaN</td>\n",
       "      <td>NaN</td>\n",
       "      <td>NaN</td>\n",
       "      <td>2007</td>\n",
       "    </tr>\n",
       "    <tr>\n",
       "      <th>4</th>\n",
       "      <td>Adelie</td>\n",
       "      <td>Torgersen</td>\n",
       "      <td>36.7</td>\n",
       "      <td>19.3</td>\n",
       "      <td>193.0</td>\n",
       "      <td>3450.0</td>\n",
       "      <td>f</td>\n",
       "      <td>2007</td>\n",
       "    </tr>\n",
       "  </tbody>\n",
       "</table>\n",
       "</div>"
      ],
      "text/plain": [
       "  species     island  bill_length_mm  bill_depth_mm  flipper_length_mm  \\\n",
       "0  Adelie  Torgersen            39.1           18.7              181.0   \n",
       "1  Adelie  Torgersen            39.5           17.4              186.0   \n",
       "2  Adelie  Torgersen            40.3           18.0              195.0   \n",
       "3  Adelie  Torgersen             NaN            NaN                NaN   \n",
       "4  Adelie  Torgersen            36.7           19.3              193.0   \n",
       "\n",
       "   body_mass_g is_male  year  \n",
       "0       3750.0       m  2007  \n",
       "1       3800.0       f  2007  \n",
       "2       3250.0       f  2007  \n",
       "3          NaN     NaN  2007  \n",
       "4       3450.0       f  2007  "
      ]
     },
     "metadata": {},
     "output_type": "display_data"
    },
    {
     "name": "stdout",
     "output_type": "stream",
     "text": [
      "<class 'pandas.core.frame.DataFrame'>\n",
      "RangeIndex: 344 entries, 0 to 343\n",
      "Data columns (total 8 columns):\n",
      " #   Column             Non-Null Count  Dtype  \n",
      "---  ------             --------------  -----  \n",
      " 0   species            344 non-null    object \n",
      " 1   island             344 non-null    object \n",
      " 2   bill_length_mm     342 non-null    float64\n",
      " 3   bill_depth_mm      342 non-null    float64\n",
      " 4   flipper_length_mm  342 non-null    float64\n",
      " 5   body_mass_g        342 non-null    float64\n",
      " 6   is_male            333 non-null    object \n",
      " 7   year               344 non-null    int64  \n",
      "dtypes: float64(4), int64(1), object(3)\n",
      "memory usage: 21.6+ KB\n"
     ]
    }
   ],
   "source": [
    "#load the data and learn a bit\n",
    "peng_data = pd.read_csv('https://raw.githubusercontent.com/allisonhorst/palmerpenguins/master/inst/extdata/penguins.csv')\n",
    "peng_data.rename(columns={'sex':'is_male'}, inplace=True)\n",
    "peng_data['is_male'] = peng_data['is_male'].replace({'male':'m', 'female':'f'})\n",
    "display(peng_data.head())\n",
    "peng_data.info()"
   ]
  },
  {
   "cell_type": "markdown",
   "metadata": {},
   "source": [
    "# Data cleaning and EDA\n",
    "We can now explore our data.  We leave this exercise to the reader.  For now, we can observe that there are a few NA values which will likely need imputation.  We'll wait for this step so that we can put it within our training loop.  For now, we'll just drop all of the sex NAs out of the dataframe."
   ]
  },
  {
   "cell_type": "code",
   "execution_count": 9,
   "metadata": {},
   "outputs": [],
   "source": [
    "peng_data = peng_data.dropna(subset=['is_male'])"
   ]
  },
  {
   "cell_type": "code",
   "execution_count": 10,
   "metadata": {},
   "outputs": [
    {
     "data": {
      "text/plain": [
       "(333, 8)"
      ]
     },
     "execution_count": 10,
     "metadata": {},
     "output_type": "execute_result"
    }
   ],
   "source": [
    "peng_data.shape"
   ]
  },
  {
   "cell_type": "markdown",
   "metadata": {},
   "source": [
    "This set of dimensions is expected."
   ]
  },
  {
   "cell_type": "markdown",
   "metadata": {},
   "source": [
    "# ?\n",
    "?? What is the purpose of this section?"
   ]
  },
  {
   "cell_type": "code",
   "execution_count": 11,
   "metadata": {},
   "outputs": [],
   "source": [
    "class_column = 'is_male'\n",
    "random_seed = 2435\n",
    "\n",
    "X_train, X_test, y_train, y_test = train_test_split(peng_data.drop(columns=class_column), peng_data[class_column],\n",
    "                                                   test_size=0.25, random_state=random_seed, stratify=peng_data[class_column])"
   ]
  },
  {
   "cell_type": "code",
   "execution_count": null,
   "metadata": {},
   "outputs": [],
   "source": []
  },
  {
   "cell_type": "markdown",
   "metadata": {},
   "source": [
    "Quick sanity check to make sure that everything seems OK:"
   ]
  },
  {
   "cell_type": "code",
   "execution_count": 12,
   "metadata": {},
   "outputs": [
    {
     "name": "stdout",
     "output_type": "stream",
     "text": [
      "On X train: \n",
      "X train dimensions:  (249, 7)\n"
     ]
    },
    {
     "data": {
      "text/html": [
       "<div>\n",
       "<style scoped>\n",
       "    .dataframe tbody tr th:only-of-type {\n",
       "        vertical-align: middle;\n",
       "    }\n",
       "\n",
       "    .dataframe tbody tr th {\n",
       "        vertical-align: top;\n",
       "    }\n",
       "\n",
       "    .dataframe thead th {\n",
       "        text-align: right;\n",
       "    }\n",
       "</style>\n",
       "<table border=\"1\" class=\"dataframe\">\n",
       "  <thead>\n",
       "    <tr style=\"text-align: right;\">\n",
       "      <th></th>\n",
       "      <th>species</th>\n",
       "      <th>island</th>\n",
       "      <th>bill_length_mm</th>\n",
       "      <th>bill_depth_mm</th>\n",
       "      <th>flipper_length_mm</th>\n",
       "      <th>body_mass_g</th>\n",
       "      <th>year</th>\n",
       "    </tr>\n",
       "  </thead>\n",
       "  <tbody>\n",
       "    <tr>\n",
       "      <th>101</th>\n",
       "      <td>Adelie</td>\n",
       "      <td>Biscoe</td>\n",
       "      <td>41.0</td>\n",
       "      <td>20.0</td>\n",
       "      <td>203.0</td>\n",
       "      <td>4725.0</td>\n",
       "      <td>2009</td>\n",
       "    </tr>\n",
       "    <tr>\n",
       "      <th>260</th>\n",
       "      <td>Gentoo</td>\n",
       "      <td>Biscoe</td>\n",
       "      <td>43.3</td>\n",
       "      <td>14.0</td>\n",
       "      <td>208.0</td>\n",
       "      <td>4575.0</td>\n",
       "      <td>2009</td>\n",
       "    </tr>\n",
       "    <tr>\n",
       "      <th>142</th>\n",
       "      <td>Adelie</td>\n",
       "      <td>Dream</td>\n",
       "      <td>32.1</td>\n",
       "      <td>15.5</td>\n",
       "      <td>188.0</td>\n",
       "      <td>3050.0</td>\n",
       "      <td>2009</td>\n",
       "    </tr>\n",
       "    <tr>\n",
       "      <th>155</th>\n",
       "      <td>Gentoo</td>\n",
       "      <td>Biscoe</td>\n",
       "      <td>50.0</td>\n",
       "      <td>15.2</td>\n",
       "      <td>218.0</td>\n",
       "      <td>5700.0</td>\n",
       "      <td>2007</td>\n",
       "    </tr>\n",
       "    <tr>\n",
       "      <th>136</th>\n",
       "      <td>Adelie</td>\n",
       "      <td>Dream</td>\n",
       "      <td>35.6</td>\n",
       "      <td>17.5</td>\n",
       "      <td>191.0</td>\n",
       "      <td>3175.0</td>\n",
       "      <td>2009</td>\n",
       "    </tr>\n",
       "  </tbody>\n",
       "</table>\n",
       "</div>"
      ],
      "text/plain": [
       "    species  island  bill_length_mm  bill_depth_mm  flipper_length_mm  \\\n",
       "101  Adelie  Biscoe            41.0           20.0              203.0   \n",
       "260  Gentoo  Biscoe            43.3           14.0              208.0   \n",
       "142  Adelie   Dream            32.1           15.5              188.0   \n",
       "155  Gentoo  Biscoe            50.0           15.2              218.0   \n",
       "136  Adelie   Dream            35.6           17.5              191.0   \n",
       "\n",
       "     body_mass_g  year  \n",
       "101       4725.0  2009  \n",
       "260       4575.0  2009  \n",
       "142       3050.0  2009  \n",
       "155       5700.0  2007  \n",
       "136       3175.0  2009  "
      ]
     },
     "metadata": {},
     "output_type": "display_data"
    },
    {
     "name": "stdout",
     "output_type": "stream",
     "text": [
      "\n",
      "On X test: \n",
      "X test dimensions:  (84, 7)\n"
     ]
    },
    {
     "data": {
      "text/html": [
       "<div>\n",
       "<style scoped>\n",
       "    .dataframe tbody tr th:only-of-type {\n",
       "        vertical-align: middle;\n",
       "    }\n",
       "\n",
       "    .dataframe tbody tr th {\n",
       "        vertical-align: top;\n",
       "    }\n",
       "\n",
       "    .dataframe thead th {\n",
       "        text-align: right;\n",
       "    }\n",
       "</style>\n",
       "<table border=\"1\" class=\"dataframe\">\n",
       "  <thead>\n",
       "    <tr style=\"text-align: right;\">\n",
       "      <th></th>\n",
       "      <th>species</th>\n",
       "      <th>island</th>\n",
       "      <th>bill_length_mm</th>\n",
       "      <th>bill_depth_mm</th>\n",
       "      <th>flipper_length_mm</th>\n",
       "      <th>body_mass_g</th>\n",
       "      <th>year</th>\n",
       "    </tr>\n",
       "  </thead>\n",
       "  <tbody>\n",
       "    <tr>\n",
       "      <th>308</th>\n",
       "      <td>Chinstrap</td>\n",
       "      <td>Dream</td>\n",
       "      <td>42.5</td>\n",
       "      <td>16.7</td>\n",
       "      <td>187.0</td>\n",
       "      <td>3350.0</td>\n",
       "      <td>2008</td>\n",
       "    </tr>\n",
       "    <tr>\n",
       "      <th>120</th>\n",
       "      <td>Adelie</td>\n",
       "      <td>Torgersen</td>\n",
       "      <td>36.2</td>\n",
       "      <td>17.2</td>\n",
       "      <td>187.0</td>\n",
       "      <td>3150.0</td>\n",
       "      <td>2009</td>\n",
       "    </tr>\n",
       "    <tr>\n",
       "      <th>206</th>\n",
       "      <td>Gentoo</td>\n",
       "      <td>Biscoe</td>\n",
       "      <td>46.5</td>\n",
       "      <td>14.4</td>\n",
       "      <td>217.0</td>\n",
       "      <td>4900.0</td>\n",
       "      <td>2008</td>\n",
       "    </tr>\n",
       "    <tr>\n",
       "      <th>106</th>\n",
       "      <td>Adelie</td>\n",
       "      <td>Biscoe</td>\n",
       "      <td>38.6</td>\n",
       "      <td>17.2</td>\n",
       "      <td>199.0</td>\n",
       "      <td>3750.0</td>\n",
       "      <td>2009</td>\n",
       "    </tr>\n",
       "    <tr>\n",
       "      <th>99</th>\n",
       "      <td>Adelie</td>\n",
       "      <td>Dream</td>\n",
       "      <td>43.2</td>\n",
       "      <td>18.5</td>\n",
       "      <td>192.0</td>\n",
       "      <td>4100.0</td>\n",
       "      <td>2008</td>\n",
       "    </tr>\n",
       "  </tbody>\n",
       "</table>\n",
       "</div>"
      ],
      "text/plain": [
       "       species     island  bill_length_mm  bill_depth_mm  flipper_length_mm  \\\n",
       "308  Chinstrap      Dream            42.5           16.7              187.0   \n",
       "120     Adelie  Torgersen            36.2           17.2              187.0   \n",
       "206     Gentoo     Biscoe            46.5           14.4              217.0   \n",
       "106     Adelie     Biscoe            38.6           17.2              199.0   \n",
       "99      Adelie      Dream            43.2           18.5              192.0   \n",
       "\n",
       "     body_mass_g  year  \n",
       "308       3350.0  2008  \n",
       "120       3150.0  2009  \n",
       "206       4900.0  2008  \n",
       "106       3750.0  2009  \n",
       "99        4100.0  2008  "
      ]
     },
     "metadata": {},
     "output_type": "display_data"
    }
   ],
   "source": [
    "# X Train\n",
    "print('On X train: ')\n",
    "print('X train dimensions: ', X_train.shape)\n",
    "display(X_train.head())\n",
    "\n",
    "# X test\n",
    "print('\\nOn X test: ')\n",
    "print('X test dimensions: ', X_test.shape)\n",
    "display(X_test.head())"
   ]
  },
  {
   "cell_type": "code",
   "execution_count": 13,
   "metadata": {},
   "outputs": [
    {
     "name": "stdout",
     "output_type": "stream",
     "text": [
      "On y train: \n",
      "y train dimensions:  (249,)\n"
     ]
    },
    {
     "data": {
      "text/plain": [
       "101    m\n",
       "260    f\n",
       "142    f\n",
       "155    m\n",
       "136    f\n",
       "Name: is_male, dtype: object"
      ]
     },
     "metadata": {},
     "output_type": "display_data"
    },
    {
     "name": "stdout",
     "output_type": "stream",
     "text": [
      "\n",
      "On y test: \n",
      "y test dimensions:  (84,)\n"
     ]
    },
    {
     "data": {
      "text/plain": [
       "308    f\n",
       "120    f\n",
       "206    f\n",
       "106    f\n",
       "99     m\n",
       "Name: is_male, dtype: object"
      ]
     },
     "metadata": {},
     "output_type": "display_data"
    }
   ],
   "source": [
    "# X Train\n",
    "print('On y train: ')\n",
    "print('y train dimensions: ', y_train.shape)\n",
    "display(y_train.head())\n",
    "\n",
    "# X test\n",
    "print('\\nOn y test: ')\n",
    "print('y test dimensions: ', y_test.shape)\n",
    "display(y_test.head())"
   ]
  },
  {
   "cell_type": "markdown",
   "metadata": {},
   "source": [
    "I love a good sanity check.  Here, we can see that the ratios of the split are about correct.  We can also observe that the indices match (for example, between X and y train).  These are all good indicators."
   ]
  },
  {
   "cell_type": "markdown",
   "metadata": {},
   "source": [
    "# Establish training pipeline\n",
    "?? What do you think we're doing here?  Add a brief description of the goals of the following section.  Add some comments after the pound symbol in the cells below."
   ]
  },
  {
   "cell_type": "code",
   "execution_count": 27,
   "metadata": {},
   "outputs": [],
   "source": [
    "#\n",
    "cat_pipeline = Pipeline(steps=[('cat_impute', SimpleImputer(missing_values=np.nan, strategy='most_frequent')),\n",
    "                               ('onehot_cat', OneHotEncoder(drop='if_binary'))])\n",
    "\n",
    "#\n",
    "num_pipeline = Pipeline(steps=[('impute_num', SimpleImputer(missing_values=np.nan, strategy='mean')),\n",
    "                               ('scale_num', StandardScaler())])     "
   ]
  },
  {
   "cell_type": "code",
   "execution_count": 28,
   "metadata": {},
   "outputs": [],
   "source": [
    "#\n",
    "preproc = ColumnTransformer([('cat_pipe', cat_pipeline, make_column_selector(dtype_include=object)),\n",
    "                             ('num_pipe', num_pipeline, make_column_selector(dtype_include=np.number))],\n",
    "                             remainder='passthrough')"
   ]
  },
  {
   "cell_type": "code",
   "execution_count": 29,
   "metadata": {},
   "outputs": [
    {
     "data": {
      "text/html": [
       "<style>div.sk-top-container {color: black;background-color: white;}div.sk-toggleable {background-color: white;}label.sk-toggleable__label {cursor: pointer;display: block;width: 100%;margin-bottom: 0;padding: 0.2em 0.3em;box-sizing: border-box;text-align: center;}div.sk-toggleable__content {max-height: 0;max-width: 0;overflow: hidden;text-align: left;background-color: #f0f8ff;}div.sk-toggleable__content pre {margin: 0.2em;color: black;border-radius: 0.25em;background-color: #f0f8ff;}input.sk-toggleable__control:checked~div.sk-toggleable__content {max-height: 200px;max-width: 100%;overflow: auto;}div.sk-estimator input.sk-toggleable__control:checked~label.sk-toggleable__label {background-color: #d4ebff;}div.sk-label input.sk-toggleable__control:checked~label.sk-toggleable__label {background-color: #d4ebff;}input.sk-hidden--visually {border: 0;clip: rect(1px 1px 1px 1px);clip: rect(1px, 1px, 1px, 1px);height: 1px;margin: -1px;overflow: hidden;padding: 0;position: absolute;width: 1px;}div.sk-estimator {font-family: monospace;background-color: #f0f8ff;margin: 0.25em 0.25em;border: 1px dotted black;border-radius: 0.25em;box-sizing: border-box;}div.sk-estimator:hover {background-color: #d4ebff;}div.sk-parallel-item::after {content: \"\";width: 100%;border-bottom: 1px solid gray;flex-grow: 1;}div.sk-label:hover label.sk-toggleable__label {background-color: #d4ebff;}div.sk-serial::before {content: \"\";position: absolute;border-left: 1px solid gray;box-sizing: border-box;top: 2em;bottom: 0;left: 50%;}div.sk-serial {display: flex;flex-direction: column;align-items: center;background-color: white;}div.sk-item {z-index: 1;}div.sk-parallel {display: flex;align-items: stretch;justify-content: center;background-color: white;}div.sk-parallel-item {display: flex;flex-direction: column;position: relative;background-color: white;}div.sk-parallel-item:first-child::after {align-self: flex-end;width: 50%;}div.sk-parallel-item:last-child::after {align-self: flex-start;width: 50%;}div.sk-parallel-item:only-child::after {width: 0;}div.sk-dashed-wrapped {border: 1px dashed gray;margin: 0.2em;box-sizing: border-box;padding-bottom: 0.1em;background-color: white;position: relative;}div.sk-label label {font-family: monospace;font-weight: bold;background-color: white;display: inline-block;line-height: 1.2em;}div.sk-label-container {position: relative;z-index: 2;text-align: center;}div.sk-container {display: inline-block;position: relative;}</style><div class=\"sk-top-container\"><div class=\"sk-container\"><div class=\"sk-item sk-dashed-wrapped\"><div class=\"sk-label-container\"><div class=\"sk-label sk-toggleable\"><input class=\"sk-toggleable__control sk-hidden--visually\" id=\"cf522ded-2bce-4846-837d-e4d15edc74d9\" type=\"checkbox\" ><label class=\"sk-toggleable__label\" for=\"cf522ded-2bce-4846-837d-e4d15edc74d9\">Pipeline</label><div class=\"sk-toggleable__content\"><pre>Pipeline(steps=[('preproc',\n",
       "                 ColumnTransformer(remainder='passthrough',\n",
       "                                   transformers=[('cat_pipe',\n",
       "                                                  Pipeline(steps=[('cat_impute',\n",
       "                                                                   SimpleImputer(strategy='most_frequent')),\n",
       "                                                                  ('onehot_cat',\n",
       "                                                                   OneHotEncoder(drop='if_binary'))]),\n",
       "                                                  <sklearn.compose._column_transformer.make_column_selector object at 0x00000197F88922E0>),\n",
       "                                                 ('num_pipe',\n",
       "                                                  Pipeline(steps=[('impute_num',\n",
       "                                                                   SimpleImputer()),\n",
       "                                                                  ('scale_num',\n",
       "                                                                   StandardScaler())]),\n",
       "                                                  <sklearn.compose._column_transformer.make_column_selector object at 0x00000197F8892340>)])),\n",
       "                ('mdl',\n",
       "                 LogisticRegression(penalty='elasticnet', solver='saga',\n",
       "                                    tol=0.01))])</pre></div></div></div><div class=\"sk-serial\"><div class=\"sk-item sk-dashed-wrapped\"><div class=\"sk-label-container\"><div class=\"sk-label sk-toggleable\"><input class=\"sk-toggleable__control sk-hidden--visually\" id=\"5c5f4420-277e-45fa-b52e-26e54bf1144e\" type=\"checkbox\" ><label class=\"sk-toggleable__label\" for=\"5c5f4420-277e-45fa-b52e-26e54bf1144e\">preproc: ColumnTransformer</label><div class=\"sk-toggleable__content\"><pre>ColumnTransformer(remainder='passthrough',\n",
       "                  transformers=[('cat_pipe',\n",
       "                                 Pipeline(steps=[('cat_impute',\n",
       "                                                  SimpleImputer(strategy='most_frequent')),\n",
       "                                                 ('onehot_cat',\n",
       "                                                  OneHotEncoder(drop='if_binary'))]),\n",
       "                                 <sklearn.compose._column_transformer.make_column_selector object at 0x00000197F88922E0>),\n",
       "                                ('num_pipe',\n",
       "                                 Pipeline(steps=[('impute_num',\n",
       "                                                  SimpleImputer()),\n",
       "                                                 ('scale_num',\n",
       "                                                  StandardScaler())]),\n",
       "                                 <sklearn.compose._column_transformer.make_column_selector object at 0x00000197F8892340>)])</pre></div></div></div><div class=\"sk-parallel\"><div class=\"sk-parallel-item\"><div class=\"sk-item\"><div class=\"sk-label-container\"><div class=\"sk-label sk-toggleable\"><input class=\"sk-toggleable__control sk-hidden--visually\" id=\"ef4fa491-b9ad-4761-940a-44ce557db35e\" type=\"checkbox\" ><label class=\"sk-toggleable__label\" for=\"ef4fa491-b9ad-4761-940a-44ce557db35e\">cat_pipe</label><div class=\"sk-toggleable__content\"><pre><sklearn.compose._column_transformer.make_column_selector object at 0x00000197F88922E0></pre></div></div></div><div class=\"sk-serial\"><div class=\"sk-item\"><div class=\"sk-serial\"><div class=\"sk-item\"><div class=\"sk-estimator sk-toggleable\"><input class=\"sk-toggleable__control sk-hidden--visually\" id=\"45873c1f-301f-4ce1-a4a0-cb0522e2a858\" type=\"checkbox\" ><label class=\"sk-toggleable__label\" for=\"45873c1f-301f-4ce1-a4a0-cb0522e2a858\">SimpleImputer</label><div class=\"sk-toggleable__content\"><pre>SimpleImputer(strategy='most_frequent')</pre></div></div></div><div class=\"sk-item\"><div class=\"sk-estimator sk-toggleable\"><input class=\"sk-toggleable__control sk-hidden--visually\" id=\"7e2efab9-392f-41fd-8f9a-a9cbd726fcba\" type=\"checkbox\" ><label class=\"sk-toggleable__label\" for=\"7e2efab9-392f-41fd-8f9a-a9cbd726fcba\">OneHotEncoder</label><div class=\"sk-toggleable__content\"><pre>OneHotEncoder(drop='if_binary')</pre></div></div></div></div></div></div></div></div><div class=\"sk-parallel-item\"><div class=\"sk-item\"><div class=\"sk-label-container\"><div class=\"sk-label sk-toggleable\"><input class=\"sk-toggleable__control sk-hidden--visually\" id=\"18335189-6624-43b6-b032-e8d2c69b1f7b\" type=\"checkbox\" ><label class=\"sk-toggleable__label\" for=\"18335189-6624-43b6-b032-e8d2c69b1f7b\">num_pipe</label><div class=\"sk-toggleable__content\"><pre><sklearn.compose._column_transformer.make_column_selector object at 0x00000197F8892340></pre></div></div></div><div class=\"sk-serial\"><div class=\"sk-item\"><div class=\"sk-serial\"><div class=\"sk-item\"><div class=\"sk-estimator sk-toggleable\"><input class=\"sk-toggleable__control sk-hidden--visually\" id=\"6b17a525-1394-448a-8b8d-e5e5e9c5173a\" type=\"checkbox\" ><label class=\"sk-toggleable__label\" for=\"6b17a525-1394-448a-8b8d-e5e5e9c5173a\">SimpleImputer</label><div class=\"sk-toggleable__content\"><pre>SimpleImputer()</pre></div></div></div><div class=\"sk-item\"><div class=\"sk-estimator sk-toggleable\"><input class=\"sk-toggleable__control sk-hidden--visually\" id=\"2e0aa457-7635-4e9f-8884-b88084127c74\" type=\"checkbox\" ><label class=\"sk-toggleable__label\" for=\"2e0aa457-7635-4e9f-8884-b88084127c74\">StandardScaler</label><div class=\"sk-toggleable__content\"><pre>StandardScaler()</pre></div></div></div></div></div></div></div></div></div></div><div class=\"sk-item\"><div class=\"sk-estimator sk-toggleable\"><input class=\"sk-toggleable__control sk-hidden--visually\" id=\"4fc92e44-e0ef-4798-afba-02f9cda4407c\" type=\"checkbox\" ><label class=\"sk-toggleable__label\" for=\"4fc92e44-e0ef-4798-afba-02f9cda4407c\">LogisticRegression</label><div class=\"sk-toggleable__content\"><pre>LogisticRegression(penalty='elasticnet', solver='saga', tol=0.01)</pre></div></div></div></div></div></div></div>"
      ],
      "text/plain": [
       "Pipeline(steps=[('preproc',\n",
       "                 ColumnTransformer(remainder='passthrough',\n",
       "                                   transformers=[('cat_pipe',\n",
       "                                                  Pipeline(steps=[('cat_impute',\n",
       "                                                                   SimpleImputer(strategy='most_frequent')),\n",
       "                                                                  ('onehot_cat',\n",
       "                                                                   OneHotEncoder(drop='if_binary'))]),\n",
       "                                                  <sklearn.compose._column_transformer.make_column_selector object at 0x00000197F88922E0>),\n",
       "                                                 ('num_pipe',\n",
       "                                                  Pipeline(steps=[('impute_num',\n",
       "                                                                   SimpleImputer()),\n",
       "                                                                  ('scale_num',\n",
       "                                                                   StandardScaler())]),\n",
       "                                                  <sklearn.compose._column_transformer.make_column_selector object at 0x00000197F8892340>)])),\n",
       "                ('mdl',\n",
       "                 LogisticRegression(penalty='elasticnet', solver='saga',\n",
       "                                    tol=0.01))])"
      ]
     },
     "metadata": {},
     "output_type": "display_data"
    }
   ],
   "source": [
    "#\n",
    "pipe = Pipeline(steps=[('preproc', preproc),\n",
    "                       ('mdl', LogisticRegression(penalty='elasticnet', solver='saga', tol=0.01))])\n",
    "\n",
    "#visualization for steps\n",
    "with config_context(display='diagram'):\n",
    "    display(pipe)"
   ]
  },
  {
   "cell_type": "markdown",
   "metadata": {},
   "source": [
    "# Cross-validation with hyperparameter tuning\n",
    "?? What is this section doing?  Use your best debugging skills if you don't know what `np.linspace` or `np.logspace` do (e.g., make a new cell, pop the code in there, run it, and see what it returns).  You might need to run these cells and examine the results if it's ambiguous from the variable names and parallels with tidymodels what is occurring.\n",
    "\n",
    "?? What are C and l1_ratio, do you think?  Note that the syntax `mdl__` prefixes these variables just for scikit-learn implementation.  You can take a look at the Logistic Regression documentation [here](https://scikit-learn.org/stable/modules/generated/sklearn.linear_model.LogisticRegression.html) for clarification."
   ]
  },
  {
   "cell_type": "code",
   "execution_count": 30,
   "metadata": {},
   "outputs": [],
   "source": [
    "#\n",
    "tuning_grid = {'mdl__l1_ratio' : np.linspace(0,1,5),\n",
    "               'mdl__C': np.logspace(-1, 6, 3) }\n",
    "#\n",
    "grid_search = GridSearchCV(pipe, param_grid = tuning_grid, cv = 5, return_train_score=True)"
   ]
  },
  {
   "cell_type": "code",
   "execution_count": 33,
   "metadata": {},
   "outputs": [
    {
     "data": {
      "text/plain": [
       "array([0.  , 0.25, 0.5 , 0.75, 1.  ])"
      ]
     },
     "execution_count": 33,
     "metadata": {},
     "output_type": "execute_result"
    }
   ],
   "source": [
    "np.linspace(0,1,5)"
   ]
  },
  {
   "cell_type": "code",
   "execution_count": 31,
   "metadata": {},
   "outputs": [
    {
     "data": {
      "text/plain": [
       "GridSearchCV(cv=5,\n",
       "             estimator=Pipeline(steps=[('preproc',\n",
       "                                        ColumnTransformer(remainder='passthrough',\n",
       "                                                          transformers=[('cat_pipe',\n",
       "                                                                         Pipeline(steps=[('cat_impute',\n",
       "                                                                                          SimpleImputer(strategy='most_frequent')),\n",
       "                                                                                         ('onehot_cat',\n",
       "                                                                                          OneHotEncoder(drop='if_binary'))]),\n",
       "                                                                         <sklearn.compose._column_transformer.make_column_selector object at 0x00000197F88922E0>),\n",
       "                                                                        ('num_pipe',\n",
       "                                                                         Pipeline(...\n",
       "                                                                                          SimpleImputer()),\n",
       "                                                                                         ('scale_num',\n",
       "                                                                                          StandardScaler())]),\n",
       "                                                                         <sklearn.compose._column_transformer.make_column_selector object at 0x00000197F8892340>)])),\n",
       "                                       ('mdl',\n",
       "                                        LogisticRegression(penalty='elasticnet',\n",
       "                                                           solver='saga',\n",
       "                                                           tol=0.01))]),\n",
       "             param_grid={'mdl__C': array([1.00000000e-01, 3.16227766e+02, 1.00000000e+06]),\n",
       "                         'mdl__l1_ratio': array([0.  , 0.25, 0.5 , 0.75, 1.  ])},\n",
       "             return_train_score=True)"
      ]
     },
     "execution_count": 31,
     "metadata": {},
     "output_type": "execute_result"
    }
   ],
   "source": [
    "#\n",
    "grid_search.fit(X_train, y_train)"
   ]
  },
  {
   "cell_type": "code",
   "execution_count": 34,
   "metadata": {},
   "outputs": [
    {
     "name": "stdout",
     "output_type": "stream",
     "text": [
      "0.9158367346938775\n"
     ]
    },
    {
     "data": {
      "text/plain": [
       "{'mdl__C': 316.22776601683796, 'mdl__l1_ratio': 0.0}"
      ]
     },
     "execution_count": 34,
     "metadata": {},
     "output_type": "execute_result"
    }
   ],
   "source": [
    "#\n",
    "print(grid_search.best_score_)\n",
    "grid_search.best_params_"
   ]
  },
  {
   "cell_type": "code",
   "execution_count": 32,
   "metadata": {},
   "outputs": [
    {
     "data": {
      "text/html": [
       "<div>\n",
       "<style scoped>\n",
       "    .dataframe tbody tr th:only-of-type {\n",
       "        vertical-align: middle;\n",
       "    }\n",
       "\n",
       "    .dataframe tbody tr th {\n",
       "        vertical-align: top;\n",
       "    }\n",
       "\n",
       "    .dataframe thead th {\n",
       "        text-align: right;\n",
       "    }\n",
       "</style>\n",
       "<table border=\"1\" class=\"dataframe\">\n",
       "  <thead>\n",
       "    <tr style=\"text-align: right;\">\n",
       "      <th></th>\n",
       "      <th>mean_fit_time</th>\n",
       "      <th>std_fit_time</th>\n",
       "      <th>mean_score_time</th>\n",
       "      <th>std_score_time</th>\n",
       "      <th>param_mdl__C</th>\n",
       "      <th>param_mdl__l1_ratio</th>\n",
       "      <th>params</th>\n",
       "      <th>split0_test_score</th>\n",
       "      <th>split1_test_score</th>\n",
       "      <th>split2_test_score</th>\n",
       "      <th>...</th>\n",
       "      <th>mean_test_score</th>\n",
       "      <th>std_test_score</th>\n",
       "      <th>rank_test_score</th>\n",
       "      <th>split0_train_score</th>\n",
       "      <th>split1_train_score</th>\n",
       "      <th>split2_train_score</th>\n",
       "      <th>split3_train_score</th>\n",
       "      <th>split4_train_score</th>\n",
       "      <th>mean_train_score</th>\n",
       "      <th>std_train_score</th>\n",
       "    </tr>\n",
       "  </thead>\n",
       "  <tbody>\n",
       "    <tr>\n",
       "      <th>0</th>\n",
       "      <td>0.014150</td>\n",
       "      <td>0.004824</td>\n",
       "      <td>0.003916</td>\n",
       "      <td>0.000860</td>\n",
       "      <td>0.1</td>\n",
       "      <td>0</td>\n",
       "      <td>{'mdl__C': 0.1, 'mdl__l1_ratio': 0.0}</td>\n",
       "      <td>0.90</td>\n",
       "      <td>0.90</td>\n",
       "      <td>0.92</td>\n",
       "      <td>...</td>\n",
       "      <td>0.903673</td>\n",
       "      <td>0.014628</td>\n",
       "      <td>11</td>\n",
       "      <td>0.899497</td>\n",
       "      <td>0.909548</td>\n",
       "      <td>0.909548</td>\n",
       "      <td>0.904523</td>\n",
       "      <td>0.905</td>\n",
       "      <td>0.905623</td>\n",
       "      <td>0.003740</td>\n",
       "    </tr>\n",
       "    <tr>\n",
       "      <th>1</th>\n",
       "      <td>0.009758</td>\n",
       "      <td>0.000619</td>\n",
       "      <td>0.003810</td>\n",
       "      <td>0.000646</td>\n",
       "      <td>0.1</td>\n",
       "      <td>0.25</td>\n",
       "      <td>{'mdl__C': 0.1, 'mdl__l1_ratio': 0.25}</td>\n",
       "      <td>0.90</td>\n",
       "      <td>0.90</td>\n",
       "      <td>0.92</td>\n",
       "      <td>...</td>\n",
       "      <td>0.903673</td>\n",
       "      <td>0.014628</td>\n",
       "      <td>11</td>\n",
       "      <td>0.889447</td>\n",
       "      <td>0.909548</td>\n",
       "      <td>0.899497</td>\n",
       "      <td>0.919598</td>\n",
       "      <td>0.900</td>\n",
       "      <td>0.903618</td>\n",
       "      <td>0.010212</td>\n",
       "    </tr>\n",
       "    <tr>\n",
       "      <th>2</th>\n",
       "      <td>0.009944</td>\n",
       "      <td>0.000394</td>\n",
       "      <td>0.003714</td>\n",
       "      <td>0.000740</td>\n",
       "      <td>0.1</td>\n",
       "      <td>0.5</td>\n",
       "      <td>{'mdl__C': 0.1, 'mdl__l1_ratio': 0.5}</td>\n",
       "      <td>0.92</td>\n",
       "      <td>0.88</td>\n",
       "      <td>0.90</td>\n",
       "      <td>...</td>\n",
       "      <td>0.899837</td>\n",
       "      <td>0.039756</td>\n",
       "      <td>13</td>\n",
       "      <td>0.894472</td>\n",
       "      <td>0.904523</td>\n",
       "      <td>0.884422</td>\n",
       "      <td>0.909548</td>\n",
       "      <td>0.900</td>\n",
       "      <td>0.898593</td>\n",
       "      <td>0.008660</td>\n",
       "    </tr>\n",
       "    <tr>\n",
       "      <th>3</th>\n",
       "      <td>0.010731</td>\n",
       "      <td>0.000625</td>\n",
       "      <td>0.003524</td>\n",
       "      <td>0.000774</td>\n",
       "      <td>0.1</td>\n",
       "      <td>0.75</td>\n",
       "      <td>{'mdl__C': 0.1, 'mdl__l1_ratio': 0.75}</td>\n",
       "      <td>0.92</td>\n",
       "      <td>0.88</td>\n",
       "      <td>0.88</td>\n",
       "      <td>...</td>\n",
       "      <td>0.891673</td>\n",
       "      <td>0.023625</td>\n",
       "      <td>14</td>\n",
       "      <td>0.904523</td>\n",
       "      <td>0.909548</td>\n",
       "      <td>0.899497</td>\n",
       "      <td>0.914573</td>\n",
       "      <td>0.895</td>\n",
       "      <td>0.904628</td>\n",
       "      <td>0.006959</td>\n",
       "    </tr>\n",
       "    <tr>\n",
       "      <th>4</th>\n",
       "      <td>0.011326</td>\n",
       "      <td>0.002675</td>\n",
       "      <td>0.004100</td>\n",
       "      <td>0.000957</td>\n",
       "      <td>0.1</td>\n",
       "      <td>1</td>\n",
       "      <td>{'mdl__C': 0.1, 'mdl__l1_ratio': 1.0}</td>\n",
       "      <td>0.88</td>\n",
       "      <td>0.88</td>\n",
       "      <td>0.90</td>\n",
       "      <td>...</td>\n",
       "      <td>0.891673</td>\n",
       "      <td>0.015432</td>\n",
       "      <td>14</td>\n",
       "      <td>0.899497</td>\n",
       "      <td>0.884422</td>\n",
       "      <td>0.899497</td>\n",
       "      <td>0.899497</td>\n",
       "      <td>0.885</td>\n",
       "      <td>0.893583</td>\n",
       "      <td>0.007246</td>\n",
       "    </tr>\n",
       "    <tr>\n",
       "      <th>5</th>\n",
       "      <td>0.011121</td>\n",
       "      <td>0.001330</td>\n",
       "      <td>0.004105</td>\n",
       "      <td>0.000402</td>\n",
       "      <td>316.228</td>\n",
       "      <td>0</td>\n",
       "      <td>{'mdl__C': 316.22776601683796, 'mdl__l1_ratio'...</td>\n",
       "      <td>0.90</td>\n",
       "      <td>0.90</td>\n",
       "      <td>0.92</td>\n",
       "      <td>...</td>\n",
       "      <td>0.915837</td>\n",
       "      <td>0.023016</td>\n",
       "      <td>1</td>\n",
       "      <td>0.929648</td>\n",
       "      <td>0.929648</td>\n",
       "      <td>0.939698</td>\n",
       "      <td>0.939698</td>\n",
       "      <td>0.915</td>\n",
       "      <td>0.930739</td>\n",
       "      <td>0.009062</td>\n",
       "    </tr>\n",
       "    <tr>\n",
       "      <th>6</th>\n",
       "      <td>0.011879</td>\n",
       "      <td>0.000955</td>\n",
       "      <td>0.004307</td>\n",
       "      <td>0.000775</td>\n",
       "      <td>316.228</td>\n",
       "      <td>0.25</td>\n",
       "      <td>{'mdl__C': 316.22776601683796, 'mdl__l1_ratio'...</td>\n",
       "      <td>0.90</td>\n",
       "      <td>0.90</td>\n",
       "      <td>0.92</td>\n",
       "      <td>...</td>\n",
       "      <td>0.915837</td>\n",
       "      <td>0.023016</td>\n",
       "      <td>1</td>\n",
       "      <td>0.929648</td>\n",
       "      <td>0.929648</td>\n",
       "      <td>0.939698</td>\n",
       "      <td>0.939698</td>\n",
       "      <td>0.915</td>\n",
       "      <td>0.930739</td>\n",
       "      <td>0.009062</td>\n",
       "    </tr>\n",
       "    <tr>\n",
       "      <th>7</th>\n",
       "      <td>0.016005</td>\n",
       "      <td>0.004998</td>\n",
       "      <td>0.005271</td>\n",
       "      <td>0.000995</td>\n",
       "      <td>316.228</td>\n",
       "      <td>0.5</td>\n",
       "      <td>{'mdl__C': 316.22776601683796, 'mdl__l1_ratio'...</td>\n",
       "      <td>0.90</td>\n",
       "      <td>0.90</td>\n",
       "      <td>0.92</td>\n",
       "      <td>...</td>\n",
       "      <td>0.915837</td>\n",
       "      <td>0.023016</td>\n",
       "      <td>1</td>\n",
       "      <td>0.929648</td>\n",
       "      <td>0.929648</td>\n",
       "      <td>0.939698</td>\n",
       "      <td>0.939698</td>\n",
       "      <td>0.915</td>\n",
       "      <td>0.930739</td>\n",
       "      <td>0.009062</td>\n",
       "    </tr>\n",
       "    <tr>\n",
       "      <th>8</th>\n",
       "      <td>0.012298</td>\n",
       "      <td>0.001585</td>\n",
       "      <td>0.004680</td>\n",
       "      <td>0.001441</td>\n",
       "      <td>316.228</td>\n",
       "      <td>0.75</td>\n",
       "      <td>{'mdl__C': 316.22776601683796, 'mdl__l1_ratio'...</td>\n",
       "      <td>0.90</td>\n",
       "      <td>0.90</td>\n",
       "      <td>0.92</td>\n",
       "      <td>...</td>\n",
       "      <td>0.915837</td>\n",
       "      <td>0.023016</td>\n",
       "      <td>1</td>\n",
       "      <td>0.929648</td>\n",
       "      <td>0.929648</td>\n",
       "      <td>0.939698</td>\n",
       "      <td>0.939698</td>\n",
       "      <td>0.915</td>\n",
       "      <td>0.930739</td>\n",
       "      <td>0.009062</td>\n",
       "    </tr>\n",
       "    <tr>\n",
       "      <th>9</th>\n",
       "      <td>0.010529</td>\n",
       "      <td>0.000385</td>\n",
       "      <td>0.003518</td>\n",
       "      <td>0.000484</td>\n",
       "      <td>316.228</td>\n",
       "      <td>1</td>\n",
       "      <td>{'mdl__C': 316.22776601683796, 'mdl__l1_ratio'...</td>\n",
       "      <td>0.90</td>\n",
       "      <td>0.90</td>\n",
       "      <td>0.92</td>\n",
       "      <td>...</td>\n",
       "      <td>0.915837</td>\n",
       "      <td>0.023016</td>\n",
       "      <td>1</td>\n",
       "      <td>0.929648</td>\n",
       "      <td>0.929648</td>\n",
       "      <td>0.939698</td>\n",
       "      <td>0.939698</td>\n",
       "      <td>0.915</td>\n",
       "      <td>0.930739</td>\n",
       "      <td>0.009062</td>\n",
       "    </tr>\n",
       "    <tr>\n",
       "      <th>10</th>\n",
       "      <td>0.009966</td>\n",
       "      <td>0.000399</td>\n",
       "      <td>0.003711</td>\n",
       "      <td>0.000728</td>\n",
       "      <td>1e+06</td>\n",
       "      <td>0</td>\n",
       "      <td>{'mdl__C': 1000000.0, 'mdl__l1_ratio': 0.0}</td>\n",
       "      <td>0.90</td>\n",
       "      <td>0.90</td>\n",
       "      <td>0.92</td>\n",
       "      <td>...</td>\n",
       "      <td>0.915837</td>\n",
       "      <td>0.023016</td>\n",
       "      <td>1</td>\n",
       "      <td>0.929648</td>\n",
       "      <td>0.929648</td>\n",
       "      <td>0.939698</td>\n",
       "      <td>0.939698</td>\n",
       "      <td>0.915</td>\n",
       "      <td>0.930739</td>\n",
       "      <td>0.009062</td>\n",
       "    </tr>\n",
       "    <tr>\n",
       "      <th>11</th>\n",
       "      <td>0.012241</td>\n",
       "      <td>0.003686</td>\n",
       "      <td>0.004294</td>\n",
       "      <td>0.000478</td>\n",
       "      <td>1e+06</td>\n",
       "      <td>0.25</td>\n",
       "      <td>{'mdl__C': 1000000.0, 'mdl__l1_ratio': 0.25}</td>\n",
       "      <td>0.90</td>\n",
       "      <td>0.90</td>\n",
       "      <td>0.92</td>\n",
       "      <td>...</td>\n",
       "      <td>0.915837</td>\n",
       "      <td>0.023016</td>\n",
       "      <td>1</td>\n",
       "      <td>0.929648</td>\n",
       "      <td>0.929648</td>\n",
       "      <td>0.939698</td>\n",
       "      <td>0.939698</td>\n",
       "      <td>0.915</td>\n",
       "      <td>0.930739</td>\n",
       "      <td>0.009062</td>\n",
       "    </tr>\n",
       "    <tr>\n",
       "      <th>12</th>\n",
       "      <td>0.011907</td>\n",
       "      <td>0.000957</td>\n",
       "      <td>0.004685</td>\n",
       "      <td>0.000391</td>\n",
       "      <td>1e+06</td>\n",
       "      <td>0.5</td>\n",
       "      <td>{'mdl__C': 1000000.0, 'mdl__l1_ratio': 0.5}</td>\n",
       "      <td>0.90</td>\n",
       "      <td>0.90</td>\n",
       "      <td>0.92</td>\n",
       "      <td>...</td>\n",
       "      <td>0.915837</td>\n",
       "      <td>0.023016</td>\n",
       "      <td>1</td>\n",
       "      <td>0.929648</td>\n",
       "      <td>0.929648</td>\n",
       "      <td>0.939698</td>\n",
       "      <td>0.939698</td>\n",
       "      <td>0.915</td>\n",
       "      <td>0.930739</td>\n",
       "      <td>0.009062</td>\n",
       "    </tr>\n",
       "    <tr>\n",
       "      <th>13</th>\n",
       "      <td>0.012883</td>\n",
       "      <td>0.002423</td>\n",
       "      <td>0.004495</td>\n",
       "      <td>0.000789</td>\n",
       "      <td>1e+06</td>\n",
       "      <td>0.75</td>\n",
       "      <td>{'mdl__C': 1000000.0, 'mdl__l1_ratio': 0.75}</td>\n",
       "      <td>0.90</td>\n",
       "      <td>0.90</td>\n",
       "      <td>0.92</td>\n",
       "      <td>...</td>\n",
       "      <td>0.915837</td>\n",
       "      <td>0.023016</td>\n",
       "      <td>1</td>\n",
       "      <td>0.929648</td>\n",
       "      <td>0.929648</td>\n",
       "      <td>0.939698</td>\n",
       "      <td>0.939698</td>\n",
       "      <td>0.915</td>\n",
       "      <td>0.930739</td>\n",
       "      <td>0.009062</td>\n",
       "    </tr>\n",
       "    <tr>\n",
       "      <th>14</th>\n",
       "      <td>0.011511</td>\n",
       "      <td>0.000388</td>\n",
       "      <td>0.004104</td>\n",
       "      <td>0.000389</td>\n",
       "      <td>1e+06</td>\n",
       "      <td>1</td>\n",
       "      <td>{'mdl__C': 1000000.0, 'mdl__l1_ratio': 1.0}</td>\n",
       "      <td>0.90</td>\n",
       "      <td>0.90</td>\n",
       "      <td>0.92</td>\n",
       "      <td>...</td>\n",
       "      <td>0.915837</td>\n",
       "      <td>0.023016</td>\n",
       "      <td>1</td>\n",
       "      <td>0.929648</td>\n",
       "      <td>0.929648</td>\n",
       "      <td>0.939698</td>\n",
       "      <td>0.939698</td>\n",
       "      <td>0.915</td>\n",
       "      <td>0.930739</td>\n",
       "      <td>0.009062</td>\n",
       "    </tr>\n",
       "  </tbody>\n",
       "</table>\n",
       "<p>15 rows × 22 columns</p>\n",
       "</div>"
      ],
      "text/plain": [
       "    mean_fit_time  std_fit_time  mean_score_time  std_score_time param_mdl__C  \\\n",
       "0        0.014150      0.004824         0.003916        0.000860          0.1   \n",
       "1        0.009758      0.000619         0.003810        0.000646          0.1   \n",
       "2        0.009944      0.000394         0.003714        0.000740          0.1   \n",
       "3        0.010731      0.000625         0.003524        0.000774          0.1   \n",
       "4        0.011326      0.002675         0.004100        0.000957          0.1   \n",
       "5        0.011121      0.001330         0.004105        0.000402      316.228   \n",
       "6        0.011879      0.000955         0.004307        0.000775      316.228   \n",
       "7        0.016005      0.004998         0.005271        0.000995      316.228   \n",
       "8        0.012298      0.001585         0.004680        0.001441      316.228   \n",
       "9        0.010529      0.000385         0.003518        0.000484      316.228   \n",
       "10       0.009966      0.000399         0.003711        0.000728        1e+06   \n",
       "11       0.012241      0.003686         0.004294        0.000478        1e+06   \n",
       "12       0.011907      0.000957         0.004685        0.000391        1e+06   \n",
       "13       0.012883      0.002423         0.004495        0.000789        1e+06   \n",
       "14       0.011511      0.000388         0.004104        0.000389        1e+06   \n",
       "\n",
       "   param_mdl__l1_ratio                                             params  \\\n",
       "0                    0              {'mdl__C': 0.1, 'mdl__l1_ratio': 0.0}   \n",
       "1                 0.25             {'mdl__C': 0.1, 'mdl__l1_ratio': 0.25}   \n",
       "2                  0.5              {'mdl__C': 0.1, 'mdl__l1_ratio': 0.5}   \n",
       "3                 0.75             {'mdl__C': 0.1, 'mdl__l1_ratio': 0.75}   \n",
       "4                    1              {'mdl__C': 0.1, 'mdl__l1_ratio': 1.0}   \n",
       "5                    0  {'mdl__C': 316.22776601683796, 'mdl__l1_ratio'...   \n",
       "6                 0.25  {'mdl__C': 316.22776601683796, 'mdl__l1_ratio'...   \n",
       "7                  0.5  {'mdl__C': 316.22776601683796, 'mdl__l1_ratio'...   \n",
       "8                 0.75  {'mdl__C': 316.22776601683796, 'mdl__l1_ratio'...   \n",
       "9                    1  {'mdl__C': 316.22776601683796, 'mdl__l1_ratio'...   \n",
       "10                   0        {'mdl__C': 1000000.0, 'mdl__l1_ratio': 0.0}   \n",
       "11                0.25       {'mdl__C': 1000000.0, 'mdl__l1_ratio': 0.25}   \n",
       "12                 0.5        {'mdl__C': 1000000.0, 'mdl__l1_ratio': 0.5}   \n",
       "13                0.75       {'mdl__C': 1000000.0, 'mdl__l1_ratio': 0.75}   \n",
       "14                   1        {'mdl__C': 1000000.0, 'mdl__l1_ratio': 1.0}   \n",
       "\n",
       "    split0_test_score  split1_test_score  split2_test_score  ...  \\\n",
       "0                0.90               0.90               0.92  ...   \n",
       "1                0.90               0.90               0.92  ...   \n",
       "2                0.92               0.88               0.90  ...   \n",
       "3                0.92               0.88               0.88  ...   \n",
       "4                0.88               0.88               0.90  ...   \n",
       "5                0.90               0.90               0.92  ...   \n",
       "6                0.90               0.90               0.92  ...   \n",
       "7                0.90               0.90               0.92  ...   \n",
       "8                0.90               0.90               0.92  ...   \n",
       "9                0.90               0.90               0.92  ...   \n",
       "10               0.90               0.90               0.92  ...   \n",
       "11               0.90               0.90               0.92  ...   \n",
       "12               0.90               0.90               0.92  ...   \n",
       "13               0.90               0.90               0.92  ...   \n",
       "14               0.90               0.90               0.92  ...   \n",
       "\n",
       "    mean_test_score  std_test_score  rank_test_score  split0_train_score  \\\n",
       "0          0.903673        0.014628               11            0.899497   \n",
       "1          0.903673        0.014628               11            0.889447   \n",
       "2          0.899837        0.039756               13            0.894472   \n",
       "3          0.891673        0.023625               14            0.904523   \n",
       "4          0.891673        0.015432               14            0.899497   \n",
       "5          0.915837        0.023016                1            0.929648   \n",
       "6          0.915837        0.023016                1            0.929648   \n",
       "7          0.915837        0.023016                1            0.929648   \n",
       "8          0.915837        0.023016                1            0.929648   \n",
       "9          0.915837        0.023016                1            0.929648   \n",
       "10         0.915837        0.023016                1            0.929648   \n",
       "11         0.915837        0.023016                1            0.929648   \n",
       "12         0.915837        0.023016                1            0.929648   \n",
       "13         0.915837        0.023016                1            0.929648   \n",
       "14         0.915837        0.023016                1            0.929648   \n",
       "\n",
       "    split1_train_score  split2_train_score  split3_train_score  \\\n",
       "0             0.909548            0.909548            0.904523   \n",
       "1             0.909548            0.899497            0.919598   \n",
       "2             0.904523            0.884422            0.909548   \n",
       "3             0.909548            0.899497            0.914573   \n",
       "4             0.884422            0.899497            0.899497   \n",
       "5             0.929648            0.939698            0.939698   \n",
       "6             0.929648            0.939698            0.939698   \n",
       "7             0.929648            0.939698            0.939698   \n",
       "8             0.929648            0.939698            0.939698   \n",
       "9             0.929648            0.939698            0.939698   \n",
       "10            0.929648            0.939698            0.939698   \n",
       "11            0.929648            0.939698            0.939698   \n",
       "12            0.929648            0.939698            0.939698   \n",
       "13            0.929648            0.939698            0.939698   \n",
       "14            0.929648            0.939698            0.939698   \n",
       "\n",
       "    split4_train_score  mean_train_score  std_train_score  \n",
       "0                0.905          0.905623         0.003740  \n",
       "1                0.900          0.903618         0.010212  \n",
       "2                0.900          0.898593         0.008660  \n",
       "3                0.895          0.904628         0.006959  \n",
       "4                0.885          0.893583         0.007246  \n",
       "5                0.915          0.930739         0.009062  \n",
       "6                0.915          0.930739         0.009062  \n",
       "7                0.915          0.930739         0.009062  \n",
       "8                0.915          0.930739         0.009062  \n",
       "9                0.915          0.930739         0.009062  \n",
       "10               0.915          0.930739         0.009062  \n",
       "11               0.915          0.930739         0.009062  \n",
       "12               0.915          0.930739         0.009062  \n",
       "13               0.915          0.930739         0.009062  \n",
       "14               0.915          0.930739         0.009062  \n",
       "\n",
       "[15 rows x 22 columns]"
      ]
     },
     "execution_count": 32,
     "metadata": {},
     "output_type": "execute_result"
    }
   ],
   "source": [
    "#\n",
    "pd.DataFrame(grid_search.cv_results_)"
   ]
  },
  {
   "cell_type": "markdown",
   "metadata": {},
   "source": [
    "# Final fit\n",
    "The final fit here is already present in the generated model due to the way we set our parameters in the grid search.  If we want to look at the performance, we can do so.  Here is a non-helpful description of the best model:"
   ]
  },
  {
   "cell_type": "code",
   "execution_count": 21,
   "metadata": {},
   "outputs": [
    {
     "data": {
      "text/plain": [
       "Pipeline(steps=[('preproc',\n",
       "                 ColumnTransformer(remainder='passthrough',\n",
       "                                   transformers=[('cat_pipe',\n",
       "                                                  Pipeline(steps=[('cat_impute',\n",
       "                                                                   SimpleImputer(strategy='most_frequent')),\n",
       "                                                                  ('onehot_cat',\n",
       "                                                                   OneHotEncoder(drop='if_binary'))]),\n",
       "                                                  <sklearn.compose._column_transformer.make_column_selector object at 0x00000197F8494E80>),\n",
       "                                                 ('num_pipe',\n",
       "                                                  Pipeline(steps=[('impute_num',\n",
       "                                                                   SimpleImputer()),\n",
       "                                                                  ('scale_num',\n",
       "                                                                   StandardScaler())]),\n",
       "                                                  <sklearn.compose._column_transformer.make_column_selector object at 0x00000197F84943D0>)])),\n",
       "                ('mdl',\n",
       "                 LogisticRegression(C=316.22776601683796, l1_ratio=0.0,\n",
       "                                    penalty='elasticnet', solver='saga',\n",
       "                                    tol=0.01))])"
      ]
     },
     "execution_count": 21,
     "metadata": {},
     "output_type": "execute_result"
    }
   ],
   "source": [
    "grid_search.best_estimator_"
   ]
  },
  {
   "cell_type": "markdown",
   "metadata": {},
   "source": [
    "# Variable importance\n",
    "Now we assess the importance in the selected model to reveal any potential insights."
   ]
  },
  {
   "cell_type": "code",
   "execution_count": 22,
   "metadata": {},
   "outputs": [
    {
     "data": {
      "text/plain": [
       "array(['f', 'm'], dtype=object)"
      ]
     },
     "execution_count": 22,
     "metadata": {},
     "output_type": "execute_result"
    }
   ],
   "source": [
    "grid_search.classes_"
   ]
  },
  {
   "cell_type": "code",
   "execution_count": 23,
   "metadata": {},
   "outputs": [
    {
     "data": {
      "text/plain": [
       "array([ 3.57865866, -2.42229011, -1.48219984, -0.39943444,  0.36446792,\n",
       "       -0.29086478,  2.62893742,  3.12592295, -0.12834205,  4.0029126 ,\n",
       "        0.1623278 ])"
      ]
     },
     "execution_count": 23,
     "metadata": {},
     "output_type": "execute_result"
    }
   ],
   "source": [
    "vip = grid_search.best_estimator_['mdl'].coef_[0]\n",
    "vip"
   ]
  },
  {
   "cell_type": "code",
   "execution_count": 35,
   "metadata": {},
   "outputs": [
    {
     "data": {
      "image/png": "[encoded data removed]",
      "text/plain": [
       "<Figure size 432x288 with 1 Axes>"
      ]
     },
     "metadata": {
      "needs_background": "light"
     },
     "output_type": "display_data"
    }
   ],
   "source": [
    "#get names in correct preproc order\n",
    "cat_names = grid_search.best_estimator_.named_steps['preproc'].transformers_[0][1].named_steps['onehot_cat'].get_feature_names()\n",
    "num_names = grid_search.best_estimator_.named_steps['preproc'].transformers_[1][2]\n",
    "\n",
    "#create df with vip info\n",
    "coef_info = pd.DataFrame({'feat_names':np.hstack([cat_names, num_names]), 'vip': vip})\n",
    "\n",
    "#get sign and magnitude information\n",
    "coef_info = coef_info.assign(coef_mag = abs(coef_info['vip']),\n",
    "                             coef_sign = np.sign(coef_info['vip']))\n",
    "\n",
    "#sort and plot\n",
    "coef_info = coef_info.set_index('feat_names').sort_values(by='coef_mag', ascending=False)\n",
    "sns.barplot(y=coef_info.index, x='coef_mag', hue='coef_sign', data=coef_info, orient='h', dodge=False);"
   ]
  },
  {
   "cell_type": "markdown",
   "metadata": {},
   "source": [
    "# Performance metrics on test data"
   ]
  },
  {
   "cell_type": "code",
   "execution_count": 25,
   "metadata": {},
   "outputs": [
    {
     "name": "stdout",
     "output_type": "stream",
     "text": [
      "              precision    recall  f1-score   support\n",
      "\n",
      "           f       0.89      0.93      0.91        42\n",
      "           m       0.93      0.88      0.90        42\n",
      "\n",
      "    accuracy                           0.90        84\n",
      "   macro avg       0.91      0.90      0.90        84\n",
      "weighted avg       0.91      0.90      0.90        84\n",
      "\n"
     ]
    }
   ],
   "source": [
    "print(classification_report(y_test, grid_search.best_estimator_.predict(X_test)))"
   ]
  },
  {
   "cell_type": "markdown",
   "metadata": {},
   "source": [
    "Here, we can see the performance of the model, which is pretty nice!  We can also look into different scores specifically for more insight into the performance."
   ]
  },
  {
   "cell_type": "code",
   "execution_count": null,
   "metadata": {},
   "outputs": [],
   "source": []
  },
  {
   "cell_type": "code",
   "execution_count": null,
   "metadata": {},
   "outputs": [],
   "source": []
  },
  {
   "cell_type": "code",
   "execution_count": null,
   "metadata": {},
   "outputs": [],
   "source": []
  },
  {
   "cell_type": "code",
   "execution_count": null,
   "metadata": {},
   "outputs": [],
   "source": []
  },
  {
   "cell_type": "code",
   "execution_count": null,
   "metadata": {},
   "outputs": [],
   "source": []
  }
 ],
 "metadata": {
  "kernelspec": {
   "display_name": "Python 3",
   "language": "python",
   "name": "python3"
  },
  "language_info": {
   "codemirror_mode": {
    "name": "ipython",
    "version": 3
   },
   "file_extension": ".py",
   "mimetype": "text/x-python",
   "name": "python",
   "nbconvert_exporter": "python",
   "pygments_lexer": "ipython3",
   "version": "3.8.5"
  }
 },
 "nbformat": 4,
 "nbformat_minor": 4
}
